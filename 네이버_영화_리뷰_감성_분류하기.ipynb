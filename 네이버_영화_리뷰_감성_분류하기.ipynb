{
  "cells": [
    {
      "cell_type": "markdown",
      "metadata": {
        "id": "view-in-github",
        "colab_type": "text"
      },
      "source": [
        "<a href=\"https://colab.research.google.com/github/davinnnnn/Natural-Language-Processing/blob/main/%EB%84%A4%EC%9D%B4%EB%B2%84_%EC%98%81%ED%99%94_%EB%A6%AC%EB%B7%B0_%EA%B0%90%EC%84%B1_%EB%B6%84%EB%A5%98%ED%95%98%EA%B8%B0.ipynb\" target=\"_parent\"><img src=\"https://colab.research.google.com/assets/colab-badge.svg\" alt=\"Open In Colab\"/></a>"
      ]
    },
    {
      "cell_type": "code",
      "execution_count": 1,
      "metadata": {
        "id": "dq-IHRlwrZSg",
        "colab": {
          "base_uri": "https://localhost:8080/"
        },
        "outputId": "13c8c67b-ba22-43c7-9f1f-4085f5a4f9b9"
      },
      "outputs": [
        {
          "output_type": "stream",
          "name": "stdout",
          "text": [
            "Collecting konlpy\n",
            "  Downloading konlpy-0.6.0-py2.py3-none-any.whl (19.4 MB)\n",
            "\u001b[2K     \u001b[90m━━━━━━━━━━━━━━━━━━━━━━━━━━━━━━━━━━━━━━━━\u001b[0m \u001b[32m19.4/19.4 MB\u001b[0m \u001b[31m76.9 MB/s\u001b[0m eta \u001b[36m0:00:00\u001b[0m\n",
            "\u001b[?25hCollecting JPype1>=0.7.0 (from konlpy)\n",
            "  Downloading JPype1-1.4.1-cp310-cp310-manylinux_2_12_x86_64.manylinux2010_x86_64.whl (465 kB)\n",
            "\u001b[2K     \u001b[90m━━━━━━━━━━━━━━━━━━━━━━━━━━━━━━━━━━━━━━━━\u001b[0m \u001b[32m465.3/465.3 kB\u001b[0m \u001b[31m51.1 MB/s\u001b[0m eta \u001b[36m0:00:00\u001b[0m\n",
            "\u001b[?25hRequirement already satisfied: lxml>=4.1.0 in /usr/local/lib/python3.10/dist-packages (from konlpy) (4.9.3)\n",
            "Requirement already satisfied: numpy>=1.6 in /usr/local/lib/python3.10/dist-packages (from konlpy) (1.23.5)\n",
            "Requirement already satisfied: packaging in /usr/local/lib/python3.10/dist-packages (from JPype1>=0.7.0->konlpy) (23.2)\n",
            "Installing collected packages: JPype1, konlpy\n",
            "Successfully installed JPype1-1.4.1 konlpy-0.6.0\n"
          ]
        }
      ],
      "source": [
        "# `konlpy`라는 패키지를 설치합니다.\n",
        "# `konlpy`는 한국어 정보처리를 위한 파이썬 라이브러리로, 한국어 텍스트의 토큰화, 형태소 분석, 품사 태깅 등의 기능을 제공합니다.\n",
        "!pip install konlpy\n"
      ]
    },
    {
      "cell_type": "code",
      "execution_count": 2,
      "metadata": {
        "id": "eOSvTrxuqCER"
      },
      "outputs": [],
      "source": [
        "# 필요한 라이브러리와 모듈들을 임포트합니다.\n",
        "\n",
        "# `pickle` 모듈은 파이썬 객체 구조를 직렬화하거나 역직렬화하는데 사용됩니다.\n",
        "# 이를 통해 데이터 구조나 객체 상태를 파일로 저장하거나, 이를 다시 로드할 수 있습니다.\n",
        "import pickle\n",
        "\n",
        "# `pandas`는 데이터 조작 및 분석을 위한 라이브러리입니다. 특히, 데이터프레임이라는 구조를 제공하여 테이블 형태의 데이터를 쉽게 다룰 수 있습니다.\n",
        "import pandas as pd\n",
        "\n",
        "# `numpy`는 다차원 배열 및 행렬 연산에 필요한 기능들을 제공하는 라이브러리입니다.\n",
        "import numpy as np\n",
        "\n",
        "# `matplotlib.pyplot`은 데이터 시각화를 위한 라이브러리입니다. 그래프나 차트를 그리기 위해 사용됩니다.\n",
        "import matplotlib.pyplot as plt\n",
        "\n",
        "# `re` 모듈은 정규 표현식 연산을 지원하는 라이브러리입니다. 텍스트 데이터의 패턴을 탐색하거나 대체하는데 사용됩니다.\n",
        "import re\n",
        "\n",
        "# `urllib.request`는 URL을 사용하여 데이터를 가져오는 라이브러리입니다. 웹 데이터의 스크래핑이나 다운로드에 활용됩니다.\n",
        "import urllib.request\n",
        "\n",
        "# `Okt`는 `konlpy` 라이브러리의 한국어 형태소 분석기 중 하나입니다. 한국어 텍스트를 형태소 단위로 분리하거나 품사를 태깅하는 데 사용됩니다.\n",
        "from konlpy.tag import Okt\n",
        "\n",
        "# `tqdm`는 진행 바를 보여주는 라이브러리로, 반복문의 진행 상황을 시각적으로 확인할 수 있게 해줍니다.\n",
        "from tqdm import tqdm\n",
        "\n",
        "# `Tokenizer`는 텍스트 데이터를 토큰화하기 위한 도구입니다. 텍스트를 단어나 문장 단위로 분리하는 데 사용됩니다.\n",
        "from tensorflow.keras.preprocessing.text import Tokenizer\n",
        "\n",
        "# `pad_sequences`는 시퀀스 데이터(예: 문장)를 동일한 길이로 패딩하는 데 사용됩니다. 주로 딥러닝 모델의 입력으로 사용되는 시퀀스 데이터를 일정한 길이로 맞추기 위해 사용됩니다.\n",
        "from tensorflow.keras.preprocessing.sequence import pad_sequences\n"
      ]
    },
    {
      "cell_type": "code",
      "execution_count": 3,
      "metadata": {
        "id": "5gFB5up4rnYe",
        "colab": {
          "base_uri": "https://localhost:8080/"
        },
        "outputId": "83d16def-e637-4e19-edc9-58be4260667f"
      },
      "outputs": [
        {
          "output_type": "execute_result",
          "data": {
            "text/plain": [
              "('ratings_test.txt', <http.client.HTTPMessage at 0x78bfbde295d0>)"
            ]
          },
          "metadata": {},
          "execution_count": 3
        }
      ],
      "source": [
        "# `urllib.request.urlretrieve` 함수는 지정된 URL에서 파일을 직접 다운로드하여 로컬 디스크에 저장하는 역할을 합니다.\n",
        "\n",
        "# 'https://raw.githubusercontent.com/e9t/nsmc/master/ratings_train.txt' URL의 데이터를 로컬의 'ratings_train.txt'라는 파일로 저장합니다.\n",
        "urllib.request.urlretrieve(\"https://raw.githubusercontent.com/e9t/nsmc/master/ratings_train.txt\", filename=\"ratings_train.txt\")\n",
        "\n",
        "# 'https://raw.githubusercontent.com/e9t/nsmc/master/ratings_test.txt' URL의 데이터를 로컬의 'ratings_test.txt'라는 파일로 저장합니다.\n",
        "urllib.request.urlretrieve(\"https://raw.githubusercontent.com/e9t/nsmc/master/ratings_test.txt\", filename=\"ratings_test.txt\")\n"
      ]
    },
    {
      "cell_type": "code",
      "execution_count": 4,
      "metadata": {
        "id": "0RMoBVTmrndH"
      },
      "outputs": [],
      "source": [
        "# `pd.read_table` 함수는 탭으로 구분된 데이터를 읽기 위한 pandas 함수입니다.\n",
        "\n",
        "# 'ratings_train.txt' 파일을 읽어와 데이터프레임 형태로 'train_data' 변수에 저장합니다.\n",
        "train_data = pd.read_table('ratings_train.txt')\n",
        "\n",
        "# 'ratings_test.txt' 파일을 읽어와 데이터프레임 형태로 'test_data' 변수에 저장합니다.\n",
        "test_data = pd.read_table('ratings_test.txt')\n"
      ]
    },
    {
      "cell_type": "code",
      "execution_count": 5,
      "metadata": {
        "id": "40Jd2CWarnfZ",
        "colab": {
          "base_uri": "https://localhost:8080/"
        },
        "outputId": "43418b5d-4169-41c9-85c2-03c2c44f6264"
      },
      "outputs": [
        {
          "output_type": "stream",
          "name": "stdout",
          "text": [
            "훈련용 리뷰 개수 : 150000\n"
          ]
        }
      ],
      "source": [
        "# `len` 함수는 입력으로 주어진 객체의 길이(또는 개수)를 반환합니다.\n",
        "# 여기서는 `train_data` 데이터프레임의 행의 개수, 즉 훈련용 리뷰의 총 개수를 반환합니다.\n",
        "\n",
        "# `train_data` 데이터프레임에 저장된 훈련용 리뷰의 총 개수를 출력합니다.\n",
        "print('훈련용 리뷰 개수 :', len(train_data))\n"
      ]
    },
    {
      "cell_type": "code",
      "execution_count": 6,
      "metadata": {
        "id": "MZRtsfUOrnht",
        "colab": {
          "base_uri": "https://localhost:8080/",
          "height": 204
        },
        "outputId": "19a17746-b82d-4e3f-bfb6-322a00800ca3"
      },
      "outputs": [
        {
          "output_type": "execute_result",
          "data": {
            "text/plain": [
              "         id                                           document  label\n",
              "0   9976970                                아 더빙.. 진짜 짜증나네요 목소리      0\n",
              "1   3819312                  흠...포스터보고 초딩영화줄....오버연기조차 가볍지 않구나      1\n",
              "2  10265843                                  너무재밓었다그래서보는것을추천한다      0\n",
              "3   9045019                      교도소 이야기구먼 ..솔직히 재미는 없다..평점 조정      0\n",
              "4   6483659  사이몬페그의 익살스런 연기가 돋보였던 영화!스파이더맨에서 늙어보이기만 했던 커스틴 ...      1"
            ],
            "text/html": [
              "\n",
              "  <div id=\"df-1ecebffb-7e9c-4a0d-9e20-dd55e59200e8\" class=\"colab-df-container\">\n",
              "    <div>\n",
              "<style scoped>\n",
              "    .dataframe tbody tr th:only-of-type {\n",
              "        vertical-align: middle;\n",
              "    }\n",
              "\n",
              "    .dataframe tbody tr th {\n",
              "        vertical-align: top;\n",
              "    }\n",
              "\n",
              "    .dataframe thead th {\n",
              "        text-align: right;\n",
              "    }\n",
              "</style>\n",
              "<table border=\"1\" class=\"dataframe\">\n",
              "  <thead>\n",
              "    <tr style=\"text-align: right;\">\n",
              "      <th></th>\n",
              "      <th>id</th>\n",
              "      <th>document</th>\n",
              "      <th>label</th>\n",
              "    </tr>\n",
              "  </thead>\n",
              "  <tbody>\n",
              "    <tr>\n",
              "      <th>0</th>\n",
              "      <td>9976970</td>\n",
              "      <td>아 더빙.. 진짜 짜증나네요 목소리</td>\n",
              "      <td>0</td>\n",
              "    </tr>\n",
              "    <tr>\n",
              "      <th>1</th>\n",
              "      <td>3819312</td>\n",
              "      <td>흠...포스터보고 초딩영화줄....오버연기조차 가볍지 않구나</td>\n",
              "      <td>1</td>\n",
              "    </tr>\n",
              "    <tr>\n",
              "      <th>2</th>\n",
              "      <td>10265843</td>\n",
              "      <td>너무재밓었다그래서보는것을추천한다</td>\n",
              "      <td>0</td>\n",
              "    </tr>\n",
              "    <tr>\n",
              "      <th>3</th>\n",
              "      <td>9045019</td>\n",
              "      <td>교도소 이야기구먼 ..솔직히 재미는 없다..평점 조정</td>\n",
              "      <td>0</td>\n",
              "    </tr>\n",
              "    <tr>\n",
              "      <th>4</th>\n",
              "      <td>6483659</td>\n",
              "      <td>사이몬페그의 익살스런 연기가 돋보였던 영화!스파이더맨에서 늙어보이기만 했던 커스틴 ...</td>\n",
              "      <td>1</td>\n",
              "    </tr>\n",
              "  </tbody>\n",
              "</table>\n",
              "</div>\n",
              "    <div class=\"colab-df-buttons\">\n",
              "\n",
              "  <div class=\"colab-df-container\">\n",
              "    <button class=\"colab-df-convert\" onclick=\"convertToInteractive('df-1ecebffb-7e9c-4a0d-9e20-dd55e59200e8')\"\n",
              "            title=\"Convert this dataframe to an interactive table.\"\n",
              "            style=\"display:none;\">\n",
              "\n",
              "  <svg xmlns=\"http://www.w3.org/2000/svg\" height=\"24px\" viewBox=\"0 -960 960 960\">\n",
              "    <path d=\"M120-120v-720h720v720H120Zm60-500h600v-160H180v160Zm220 220h160v-160H400v160Zm0 220h160v-160H400v160ZM180-400h160v-160H180v160Zm440 0h160v-160H620v160ZM180-180h160v-160H180v160Zm440 0h160v-160H620v160Z\"/>\n",
              "  </svg>\n",
              "    </button>\n",
              "\n",
              "  <style>\n",
              "    .colab-df-container {\n",
              "      display:flex;\n",
              "      gap: 12px;\n",
              "    }\n",
              "\n",
              "    .colab-df-convert {\n",
              "      background-color: #E8F0FE;\n",
              "      border: none;\n",
              "      border-radius: 50%;\n",
              "      cursor: pointer;\n",
              "      display: none;\n",
              "      fill: #1967D2;\n",
              "      height: 32px;\n",
              "      padding: 0 0 0 0;\n",
              "      width: 32px;\n",
              "    }\n",
              "\n",
              "    .colab-df-convert:hover {\n",
              "      background-color: #E2EBFA;\n",
              "      box-shadow: 0px 1px 2px rgba(60, 64, 67, 0.3), 0px 1px 3px 1px rgba(60, 64, 67, 0.15);\n",
              "      fill: #174EA6;\n",
              "    }\n",
              "\n",
              "    .colab-df-buttons div {\n",
              "      margin-bottom: 4px;\n",
              "    }\n",
              "\n",
              "    [theme=dark] .colab-df-convert {\n",
              "      background-color: #3B4455;\n",
              "      fill: #D2E3FC;\n",
              "    }\n",
              "\n",
              "    [theme=dark] .colab-df-convert:hover {\n",
              "      background-color: #434B5C;\n",
              "      box-shadow: 0px 1px 3px 1px rgba(0, 0, 0, 0.15);\n",
              "      filter: drop-shadow(0px 1px 2px rgba(0, 0, 0, 0.3));\n",
              "      fill: #FFFFFF;\n",
              "    }\n",
              "  </style>\n",
              "\n",
              "    <script>\n",
              "      const buttonEl =\n",
              "        document.querySelector('#df-1ecebffb-7e9c-4a0d-9e20-dd55e59200e8 button.colab-df-convert');\n",
              "      buttonEl.style.display =\n",
              "        google.colab.kernel.accessAllowed ? 'block' : 'none';\n",
              "\n",
              "      async function convertToInteractive(key) {\n",
              "        const element = document.querySelector('#df-1ecebffb-7e9c-4a0d-9e20-dd55e59200e8');\n",
              "        const dataTable =\n",
              "          await google.colab.kernel.invokeFunction('convertToInteractive',\n",
              "                                                    [key], {});\n",
              "        if (!dataTable) return;\n",
              "\n",
              "        const docLinkHtml = 'Like what you see? Visit the ' +\n",
              "          '<a target=\"_blank\" href=https://colab.research.google.com/notebooks/data_table.ipynb>data table notebook</a>'\n",
              "          + ' to learn more about interactive tables.';\n",
              "        element.innerHTML = '';\n",
              "        dataTable['output_type'] = 'display_data';\n",
              "        await google.colab.output.renderOutput(dataTable, element);\n",
              "        const docLink = document.createElement('div');\n",
              "        docLink.innerHTML = docLinkHtml;\n",
              "        element.appendChild(docLink);\n",
              "      }\n",
              "    </script>\n",
              "  </div>\n",
              "\n",
              "\n",
              "<div id=\"df-67c5dc49-8b62-4ac4-b48f-a90fecf86c54\">\n",
              "  <button class=\"colab-df-quickchart\" onclick=\"quickchart('df-67c5dc49-8b62-4ac4-b48f-a90fecf86c54')\"\n",
              "            title=\"Suggest charts.\"\n",
              "            style=\"display:none;\">\n",
              "\n",
              "<svg xmlns=\"http://www.w3.org/2000/svg\" height=\"24px\"viewBox=\"0 0 24 24\"\n",
              "     width=\"24px\">\n",
              "    <g>\n",
              "        <path d=\"M19 3H5c-1.1 0-2 .9-2 2v14c0 1.1.9 2 2 2h14c1.1 0 2-.9 2-2V5c0-1.1-.9-2-2-2zM9 17H7v-7h2v7zm4 0h-2V7h2v10zm4 0h-2v-4h2v4z\"/>\n",
              "    </g>\n",
              "</svg>\n",
              "  </button>\n",
              "\n",
              "<style>\n",
              "  .colab-df-quickchart {\n",
              "      --bg-color: #E8F0FE;\n",
              "      --fill-color: #1967D2;\n",
              "      --hover-bg-color: #E2EBFA;\n",
              "      --hover-fill-color: #174EA6;\n",
              "      --disabled-fill-color: #AAA;\n",
              "      --disabled-bg-color: #DDD;\n",
              "  }\n",
              "\n",
              "  [theme=dark] .colab-df-quickchart {\n",
              "      --bg-color: #3B4455;\n",
              "      --fill-color: #D2E3FC;\n",
              "      --hover-bg-color: #434B5C;\n",
              "      --hover-fill-color: #FFFFFF;\n",
              "      --disabled-bg-color: #3B4455;\n",
              "      --disabled-fill-color: #666;\n",
              "  }\n",
              "\n",
              "  .colab-df-quickchart {\n",
              "    background-color: var(--bg-color);\n",
              "    border: none;\n",
              "    border-radius: 50%;\n",
              "    cursor: pointer;\n",
              "    display: none;\n",
              "    fill: var(--fill-color);\n",
              "    height: 32px;\n",
              "    padding: 0;\n",
              "    width: 32px;\n",
              "  }\n",
              "\n",
              "  .colab-df-quickchart:hover {\n",
              "    background-color: var(--hover-bg-color);\n",
              "    box-shadow: 0 1px 2px rgba(60, 64, 67, 0.3), 0 1px 3px 1px rgba(60, 64, 67, 0.15);\n",
              "    fill: var(--button-hover-fill-color);\n",
              "  }\n",
              "\n",
              "  .colab-df-quickchart-complete:disabled,\n",
              "  .colab-df-quickchart-complete:disabled:hover {\n",
              "    background-color: var(--disabled-bg-color);\n",
              "    fill: var(--disabled-fill-color);\n",
              "    box-shadow: none;\n",
              "  }\n",
              "\n",
              "  .colab-df-spinner {\n",
              "    border: 2px solid var(--fill-color);\n",
              "    border-color: transparent;\n",
              "    border-bottom-color: var(--fill-color);\n",
              "    animation:\n",
              "      spin 1s steps(1) infinite;\n",
              "  }\n",
              "\n",
              "  @keyframes spin {\n",
              "    0% {\n",
              "      border-color: transparent;\n",
              "      border-bottom-color: var(--fill-color);\n",
              "      border-left-color: var(--fill-color);\n",
              "    }\n",
              "    20% {\n",
              "      border-color: transparent;\n",
              "      border-left-color: var(--fill-color);\n",
              "      border-top-color: var(--fill-color);\n",
              "    }\n",
              "    30% {\n",
              "      border-color: transparent;\n",
              "      border-left-color: var(--fill-color);\n",
              "      border-top-color: var(--fill-color);\n",
              "      border-right-color: var(--fill-color);\n",
              "    }\n",
              "    40% {\n",
              "      border-color: transparent;\n",
              "      border-right-color: var(--fill-color);\n",
              "      border-top-color: var(--fill-color);\n",
              "    }\n",
              "    60% {\n",
              "      border-color: transparent;\n",
              "      border-right-color: var(--fill-color);\n",
              "    }\n",
              "    80% {\n",
              "      border-color: transparent;\n",
              "      border-right-color: var(--fill-color);\n",
              "      border-bottom-color: var(--fill-color);\n",
              "    }\n",
              "    90% {\n",
              "      border-color: transparent;\n",
              "      border-bottom-color: var(--fill-color);\n",
              "    }\n",
              "  }\n",
              "</style>\n",
              "\n",
              "  <script>\n",
              "    async function quickchart(key) {\n",
              "      const quickchartButtonEl =\n",
              "        document.querySelector('#' + key + ' button');\n",
              "      quickchartButtonEl.disabled = true;  // To prevent multiple clicks.\n",
              "      quickchartButtonEl.classList.add('colab-df-spinner');\n",
              "      try {\n",
              "        const charts = await google.colab.kernel.invokeFunction(\n",
              "            'suggestCharts', [key], {});\n",
              "      } catch (error) {\n",
              "        console.error('Error during call to suggestCharts:', error);\n",
              "      }\n",
              "      quickchartButtonEl.classList.remove('colab-df-spinner');\n",
              "      quickchartButtonEl.classList.add('colab-df-quickchart-complete');\n",
              "    }\n",
              "    (() => {\n",
              "      let quickchartButtonEl =\n",
              "        document.querySelector('#df-67c5dc49-8b62-4ac4-b48f-a90fecf86c54 button');\n",
              "      quickchartButtonEl.style.display =\n",
              "        google.colab.kernel.accessAllowed ? 'block' : 'none';\n",
              "    })();\n",
              "  </script>\n",
              "</div>\n",
              "    </div>\n",
              "  </div>\n"
            ]
          },
          "metadata": {},
          "execution_count": 6
        }
      ],
      "source": [
        "# `train_data[:5]`는 데이터프레임 `train_data`의 처음부터 5번째 행까지의 데이터를 선택합니다.\n",
        "# 파이썬의 인덱싱은 0부터 시작하므로, 0, 1, 2, 3, 4 번째 행을 선택하는 것과 동일합니다.\n",
        "\n",
        "# `train_data` 데이터프레임의 상위 5개 행을 출력합니다.\n",
        "train_data[:5]\n"
      ]
    },
    {
      "cell_type": "code",
      "execution_count": 7,
      "metadata": {
        "id": "Yp0QvKXSrnkR",
        "colab": {
          "base_uri": "https://localhost:8080/"
        },
        "outputId": "7189a694-7feb-4467-b465-6e5f2247b748"
      },
      "outputs": [
        {
          "output_type": "stream",
          "name": "stdout",
          "text": [
            "테스트용 리뷰 개수 : 50000\n"
          ]
        }
      ],
      "source": [
        "# `len` 함수를 사용하여 `test_data` 데이터프레임의 행의 개수를 구합니다.\n",
        "# 이는 테스트용 리뷰의 총 개수를 나타냅니다.\n",
        "\n",
        "# `test_data` 데이터프레임에 저장된 테스트용 리뷰의 총 개수를 출력합니다.\n",
        "print('테스트용 리뷰 개수 :', len(test_data))\n"
      ]
    },
    {
      "cell_type": "code",
      "execution_count": 8,
      "metadata": {
        "id": "ehyk9IQYrnmg",
        "colab": {
          "base_uri": "https://localhost:8080/"
        },
        "outputId": "42405088-8380-4bfd-cce3-05a520c44632"
      },
      "outputs": [
        {
          "output_type": "execute_result",
          "data": {
            "text/plain": [
              "(146182, 2)"
            ]
          },
          "metadata": {},
          "execution_count": 8
        }
      ],
      "source": [
        "# `nunique()` 메서드는 데이터프레임의 열에서 중복 값을 제외한 고유한 값의 개수를 반환합니다.\n",
        "\n",
        "# `train_data['document'].nunique()`는 `document` 열의 중복을 제외한 고유한 리뷰의 개수를 구합니다.\n",
        "# `train_data['label'].nunique()`는 `label` 열의 중복을 제외한 고유한 레이블 값의 개수를 구합니다.\n",
        "# 레이블은 일반적으로 감성 분석(긍정/부정)과 같은 분류 작업에 사용되므로, 레이블의 고유한 값의 개수는 클래스의 개수와 동일할 것입니다.\n",
        "\n",
        "train_data['document'].nunique(), train_data['label'].nunique()\n"
      ]
    },
    {
      "cell_type": "code",
      "execution_count": 9,
      "metadata": {
        "id": "uGYq8HCNrnoz"
      },
      "outputs": [],
      "source": [
        "# `drop_duplicates()` 메서드는 데이터프레임에서 중복된 행을 제거하는 데 사용됩니다.\n",
        "\n",
        "# subset 인자에 'document'를 지정하여 `document` 열의 중복 값을 기준으로 중복 행을 찾습니다.\n",
        "# inplace=True를 설정하여 `train_data` 데이터프레임 자체를 수정하고, 새로운 데이터프레임을 반환하지 않습니다.\n",
        "\n",
        "# `train_data` 데이터프레임에서 `document` 열의 중복된 값을 제거합니다.\n",
        "train_data.drop_duplicates(subset=['document'], inplace=True)\n"
      ]
    },
    {
      "cell_type": "code",
      "execution_count": 10,
      "metadata": {
        "id": "qR0-jT5Drnrc",
        "colab": {
          "base_uri": "https://localhost:8080/"
        },
        "outputId": "fe6b18f3-d396-4cc7-f89a-d9f3da04ff7b"
      },
      "outputs": [
        {
          "output_type": "stream",
          "name": "stdout",
          "text": [
            "총 샘플의 수 : 146183\n"
          ]
        }
      ],
      "source": [
        "# `len` 함수를 사용하여 `train_data` 데이터프레임의 행의 개수를 구합니다.\n",
        "# 이는 중복 값을 제거한 후의 리뷰 샘플의 총 개수를 나타냅니다.\n",
        "\n",
        "# `train_data` 데이터프레임에 저장된 리뷰 샘플의 총 개수를 출력합니다.\n",
        "print('총 샘플의 수 :', len(train_data))\n"
      ]
    },
    {
      "cell_type": "code",
      "execution_count": 11,
      "metadata": {
        "id": "8Kh4Jp9wrnuC",
        "colab": {
          "base_uri": "https://localhost:8080/",
          "height": 442
        },
        "outputId": "bc102a10-ca82-45c8-eaa6-209bcb85b610"
      },
      "outputs": [
        {
          "output_type": "execute_result",
          "data": {
            "text/plain": [
              "<Axes: >"
            ]
          },
          "metadata": {},
          "execution_count": 11
        },
        {
          "output_type": "display_data",
          "data": {
            "text/plain": [
              "<Figure size 640x480 with 1 Axes>"
            ],
            "image/png": "[encoded data removed]"
          },
          "metadata": {}
        }
      ],
      "source": [
        "# `value_counts()` 메서드는 데이터프레임의 열에서 각 값의 출현 횟수를 반환합니다.\n",
        "\n",
        "# `train_data['label'].value_counts()`는 `label` 열의 각 값(레이블)의 출현 횟수를 구합니다.\n",
        "# `plot()` 메서드는 시각화를 위해 사용되며, `kind='bar'`를 통해 막대 그래프로 그릴 것을 지정합니다.\n",
        "\n",
        "# `train_data` 데이터프레임의 `label` 열의 값 분포를 막대 그래프로 표현합니다.\n",
        "train_data['label'].value_counts().plot(kind = 'bar')\n"
      ]
    },
    {
      "cell_type": "code",
      "execution_count": 12,
      "metadata": {
        "id": "dmRkZzVdrnwd",
        "colab": {
          "base_uri": "https://localhost:8080/"
        },
        "outputId": "ea720e33-83b4-4f22-a522-604dfd648d30"
      },
      "outputs": [
        {
          "output_type": "stream",
          "name": "stdout",
          "text": [
            "   label  count\n",
            "0      0  73342\n",
            "1      1  72841\n"
          ]
        }
      ],
      "source": [
        "# `groupby('label')`는 데이터프레임을 'label' 열의 값에 따라 그룹화합니다.\n",
        "# `size()` 메서드는 각 그룹의 크기(개수)를 반환합니다.\n",
        "# `reset_index(name='count')`는 인덱스를 리셋하며, 그룹별 크기(개수)의 열 이름을 'count'로 지정합니다.\n",
        "\n",
        "# `train_data` 데이터프레임을 'label' 열의 값에 따라 그룹화하고,\n",
        "# 각 그룹의 크기(개수)를 계산하여 'count'라는 열 이름으로 저장한 후, 그 결과를 출력합니다.\n",
        "print(train_data.groupby('label').size().reset_index(name = 'count'))\n"
      ]
    },
    {
      "cell_type": "code",
      "execution_count": 13,
      "metadata": {
        "id": "uMwKfplurnzB",
        "colab": {
          "base_uri": "https://localhost:8080/"
        },
        "outputId": "990b72fa-2418-4453-841d-4df6eebae0ef"
      },
      "outputs": [
        {
          "output_type": "stream",
          "name": "stdout",
          "text": [
            "True\n"
          ]
        }
      ],
      "source": [
        "# `isnull()` 메서드는 데이터프레임 내의 각 원소가 결측값 (NaN)인지 아닌지를 나타내는 불린(Boolean) 값을 반환합니다.\n",
        "# `values.any()`는 반환된 불린 값 중 하나라도 True가 있는지를 검사합니다.\n",
        "\n",
        "# `train_data` 데이터프레임 내에 결측값이 하나라도 있는지를 검사합니다.\n",
        "print(train_data.isnull().values.any())\n"
      ]
    },
    {
      "cell_type": "code",
      "execution_count": 14,
      "metadata": {
        "id": "GFIqmOFHrn2B",
        "colab": {
          "base_uri": "https://localhost:8080/"
        },
        "outputId": "f0620cb4-1895-4026-ae1b-22756eb08771"
      },
      "outputs": [
        {
          "output_type": "stream",
          "name": "stdout",
          "text": [
            "id          0\n",
            "document    1\n",
            "label       0\n",
            "dtype: int64\n"
          ]
        }
      ],
      "source": [
        "# `isnull()` 메서드는 데이터프레임의 각 원소가 결측값 (NaN)인지 아닌지를 나타내는 불린(Boolean) 값을 반환합니다.\n",
        "# `sum()` 메서드는 각 열별로 불린 값의 합계 (True는 1, False는 0으로 계산)를 반환하며,\n",
        "# 이를 통해 각 열에서의 결측값의 개수를 알 수 있습니다.\n",
        "\n",
        "# `train_data` 데이터프레임의 각 열에서 결측값의 개수를 계산하고 출력합니다.\n",
        "print(train_data.isnull().sum())\n"
      ]
    },
    {
      "cell_type": "code",
      "execution_count": 15,
      "metadata": {
        "id": "NEV7grjDrn4u",
        "colab": {
          "base_uri": "https://localhost:8080/",
          "height": 80
        },
        "outputId": "40beebf9-e0cb-4ba6-f2c9-8985443b86bb"
      },
      "outputs": [
        {
          "output_type": "execute_result",
          "data": {
            "text/plain": [
              "            id document  label\n",
              "25857  2172111      NaN      1"
            ],
            "text/html": [
              "\n",
              "  <div id=\"df-3958ea85-21fd-41ee-b952-daea422bc4e2\" class=\"colab-df-container\">\n",
              "    <div>\n",
              "<style scoped>\n",
              "    .dataframe tbody tr th:only-of-type {\n",
              "        vertical-align: middle;\n",
              "    }\n",
              "\n",
              "    .dataframe tbody tr th {\n",
              "        vertical-align: top;\n",
              "    }\n",
              "\n",
              "    .dataframe thead th {\n",
              "        text-align: right;\n",
              "    }\n",
              "</style>\n",
              "<table border=\"1\" class=\"dataframe\">\n",
              "  <thead>\n",
              "    <tr style=\"text-align: right;\">\n",
              "      <th></th>\n",
              "      <th>id</th>\n",
              "      <th>document</th>\n",
              "      <th>label</th>\n",
              "    </tr>\n",
              "  </thead>\n",
              "  <tbody>\n",
              "    <tr>\n",
              "      <th>25857</th>\n",
              "      <td>2172111</td>\n",
              "      <td>NaN</td>\n",
              "      <td>1</td>\n",
              "    </tr>\n",
              "  </tbody>\n",
              "</table>\n",
              "</div>\n",
              "    <div class=\"colab-df-buttons\">\n",
              "\n",
              "  <div class=\"colab-df-container\">\n",
              "    <button class=\"colab-df-convert\" onclick=\"convertToInteractive('df-3958ea85-21fd-41ee-b952-daea422bc4e2')\"\n",
              "            title=\"Convert this dataframe to an interactive table.\"\n",
              "            style=\"display:none;\">\n",
              "\n",
              "  <svg xmlns=\"http://www.w3.org/2000/svg\" height=\"24px\" viewBox=\"0 -960 960 960\">\n",
              "    <path d=\"M120-120v-720h720v720H120Zm60-500h600v-160H180v160Zm220 220h160v-160H400v160Zm0 220h160v-160H400v160ZM180-400h160v-160H180v160Zm440 0h160v-160H620v160ZM180-180h160v-160H180v160Zm440 0h160v-160H620v160Z\"/>\n",
              "  </svg>\n",
              "    </button>\n",
              "\n",
              "  <style>\n",
              "    .colab-df-container {\n",
              "      display:flex;\n",
              "      gap: 12px;\n",
              "    }\n",
              "\n",
              "    .colab-df-convert {\n",
              "      background-color: #E8F0FE;\n",
              "      border: none;\n",
              "      border-radius: 50%;\n",
              "      cursor: pointer;\n",
              "      display: none;\n",
              "      fill: #1967D2;\n",
              "      height: 32px;\n",
              "      padding: 0 0 0 0;\n",
              "      width: 32px;\n",
              "    }\n",
              "\n",
              "    .colab-df-convert:hover {\n",
              "      background-color: #E2EBFA;\n",
              "      box-shadow: 0px 1px 2px rgba(60, 64, 67, 0.3), 0px 1px 3px 1px rgba(60, 64, 67, 0.15);\n",
              "      fill: #174EA6;\n",
              "    }\n",
              "\n",
              "    .colab-df-buttons div {\n",
              "      margin-bottom: 4px;\n",
              "    }\n",
              "\n",
              "    [theme=dark] .colab-df-convert {\n",
              "      background-color: #3B4455;\n",
              "      fill: #D2E3FC;\n",
              "    }\n",
              "\n",
              "    [theme=dark] .colab-df-convert:hover {\n",
              "      background-color: #434B5C;\n",
              "      box-shadow: 0px 1px 3px 1px rgba(0, 0, 0, 0.15);\n",
              "      filter: drop-shadow(0px 1px 2px rgba(0, 0, 0, 0.3));\n",
              "      fill: #FFFFFF;\n",
              "    }\n",
              "  </style>\n",
              "\n",
              "    <script>\n",
              "      const buttonEl =\n",
              "        document.querySelector('#df-3958ea85-21fd-41ee-b952-daea422bc4e2 button.colab-df-convert');\n",
              "      buttonEl.style.display =\n",
              "        google.colab.kernel.accessAllowed ? 'block' : 'none';\n",
              "\n",
              "      async function convertToInteractive(key) {\n",
              "        const element = document.querySelector('#df-3958ea85-21fd-41ee-b952-daea422bc4e2');\n",
              "        const dataTable =\n",
              "          await google.colab.kernel.invokeFunction('convertToInteractive',\n",
              "                                                    [key], {});\n",
              "        if (!dataTable) return;\n",
              "\n",
              "        const docLinkHtml = 'Like what you see? Visit the ' +\n",
              "          '<a target=\"_blank\" href=https://colab.research.google.com/notebooks/data_table.ipynb>data table notebook</a>'\n",
              "          + ' to learn more about interactive tables.';\n",
              "        element.innerHTML = '';\n",
              "        dataTable['output_type'] = 'display_data';\n",
              "        await google.colab.output.renderOutput(dataTable, element);\n",
              "        const docLink = document.createElement('div');\n",
              "        docLink.innerHTML = docLinkHtml;\n",
              "        element.appendChild(docLink);\n",
              "      }\n",
              "    </script>\n",
              "  </div>\n",
              "\n",
              "    </div>\n",
              "  </div>\n"
            ]
          },
          "metadata": {},
          "execution_count": 15
        }
      ],
      "source": [
        "# `loc[]`는 데이터프레임의 특정 행과 열을 선택하기 위해 사용되는 인덱서입니다.\n",
        "# `train_data.document.isnull()`은 `train_data`의 `document` 열에서 결측값인지 아닌지를 검사하여\n",
        "# 불린(Boolean) 값 시리즈를 반환합니다.\n",
        "\n",
        "# `train_data` 데이터프레임에서 `document` 열의 값이 결측값인 행들을 선택하고 출력합니다.\n",
        "train_data.loc[train_data.document.isnull()]\n"
      ]
    },
    {
      "cell_type": "code",
      "execution_count": 16,
      "metadata": {
        "id": "k0wlCnOirn7Q",
        "colab": {
          "base_uri": "https://localhost:8080/"
        },
        "outputId": "2270593f-a67a-4e10-edd4-5a142c1b21b4"
      },
      "outputs": [
        {
          "output_type": "stream",
          "name": "stdout",
          "text": [
            "False\n"
          ]
        }
      ],
      "source": [
        "# `dropna(how = 'any')` 메서드는 데이터프레임에서 결측값을 포함하고 있는 행을 제거합니다.\n",
        "# `how = 'any'` 옵션은 행 내에서 어떤 열이라도 결측값을 포함하면 해당 행을 제거하라는 의미입니다.\n",
        "\n",
        "# `train_data` 데이터프레임에서 결측값을 포함하는 모든 행을 제거합니다.\n",
        "train_data = train_data.dropna(how = 'any')\n",
        "\n",
        "# `isnull().values.any()`는 데이터프레임 내에 결측값이 하나라도 있는지를 검사합니다.\n",
        "# 이를 통해 앞서의 제거 작업이 제대로 이루어졌는지 확인할 수 있습니다.\n",
        "\n",
        "# 제거 작업 후 `train_data` 데이터프레임 내에 결측값이 남아있는지 확인하고 그 결과를 출력합니다.\n",
        "print(train_data.isnull().values.any())\n"
      ]
    },
    {
      "cell_type": "code",
      "execution_count": 17,
      "metadata": {
        "id": "R0mAnwjvrn98",
        "colab": {
          "base_uri": "https://localhost:8080/"
        },
        "outputId": "130703aa-b69b-4b47-c7a6-430ad3921ba3"
      },
      "outputs": [
        {
          "output_type": "stream",
          "name": "stdout",
          "text": [
            "146182\n"
          ]
        }
      ],
      "source": [
        "# `len()` 함수는 입력된 객체의 길이(또는 항목의 개수)를 반환합니다.\n",
        "# 여기서는 `train_data` 데이터프레임의 행의 개수를 반환하게 됩니다.\n",
        "\n",
        "# `train_data` 데이터프레임의 샘플 개수를 출력합니다.\n",
        "print(len(train_data))\n"
      ]
    },
    {
      "cell_type": "code",
      "execution_count": 18,
      "metadata": {
        "id": "_qDECRcIiaia",
        "colab": {
          "base_uri": "https://localhost:8080/"
        },
        "outputId": "b04b2cba-9a6c-49c4-e00e-89afd44b6506"
      },
      "outputs": [
        {
          "output_type": "stream",
          "name": "stdout",
          "text": [
            "do you expect people to read the FAQ etc and actually accept hard atheism\n"
          ]
        }
      ],
      "source": [
        "# `re.sub()` 함수는 정규 표현식을 사용하여 문자열에서 일치하는 부분을 다른 문자열로 대체합니다.\n",
        "# 첫 번째 인자는 찾을 패턴, 두 번째 인자는 대체할 문자열, 세 번째 인자는 대상 문자열입니다.\n",
        "\n",
        "# r'[^a-zA-Z ]' 패턴은\n",
        "# - `^`: 문자열 시작을 나타내는 메타 문자가 아니라, 여기서는 부정 문자 클래스를 의미합니다.\n",
        "# - `a-zA-Z`: 소문자 a부터 z, 대문자 A부터 Z까지의 모든 알파벳을 의미합니다.\n",
        "# - ` ` (공백): 공백 문자를 의미합니다.\n",
        "# 따라서, 이 패턴은 알파벳과 공백을 제외한 모든 문자를 찾아내는 패턴입니다.\n",
        "\n",
        "# 알파벳과 공백을 제외하고 모든 문자를 제거합니다.\n",
        "eng_text = 'do!!! you expect... people~ to~ read~ the FAQ, etc. and actually accept hard~! atheism?@@'\n",
        "print(re.sub(r'[^a-zA-Z ]', '', eng_text))\n"
      ]
    },
    {
      "cell_type": "code",
      "execution_count": 19,
      "metadata": {
        "id": "IIA0myypialB",
        "colab": {
          "base_uri": "https://localhost:8080/",
          "height": 238
        },
        "outputId": "ad6e2771-3959-468d-f48c-31b9dec9d33e"
      },
      "outputs": [
        {
          "output_type": "stream",
          "name": "stderr",
          "text": [
            "<ipython-input-19-0ac6165605ad>:11: FutureWarning: The default value of regex will change from True to False in a future version.\n",
            "  train_data['document'] = train_data['document'].str.replace(\"[^ㄱ-ㅎㅏ-ㅣ가-힣 ]\",\"\")\n"
          ]
        },
        {
          "output_type": "execute_result",
          "data": {
            "text/plain": [
              "         id                                           document  label\n",
              "0   9976970                                  아 더빙 진짜 짜증나네요 목소리      0\n",
              "1   3819312                         흠포스터보고 초딩영화줄오버연기조차 가볍지 않구나      1\n",
              "2  10265843                                  너무재밓었다그래서보는것을추천한다      0\n",
              "3   9045019                          교도소 이야기구먼 솔직히 재미는 없다평점 조정      0\n",
              "4   6483659  사이몬페그의 익살스런 연기가 돋보였던 영화스파이더맨에서 늙어보이기만 했던 커스틴 던...      1"
            ],
            "text/html": [
              "\n",
              "  <div id=\"df-6fdb144a-868d-49ed-b59b-67bde6b7ecf1\" class=\"colab-df-container\">\n",
              "    <div>\n",
              "<style scoped>\n",
              "    .dataframe tbody tr th:only-of-type {\n",
              "        vertical-align: middle;\n",
              "    }\n",
              "\n",
              "    .dataframe tbody tr th {\n",
              "        vertical-align: top;\n",
              "    }\n",
              "\n",
              "    .dataframe thead th {\n",
              "        text-align: right;\n",
              "    }\n",
              "</style>\n",
              "<table border=\"1\" class=\"dataframe\">\n",
              "  <thead>\n",
              "    <tr style=\"text-align: right;\">\n",
              "      <th></th>\n",
              "      <th>id</th>\n",
              "      <th>document</th>\n",
              "      <th>label</th>\n",
              "    </tr>\n",
              "  </thead>\n",
              "  <tbody>\n",
              "    <tr>\n",
              "      <th>0</th>\n",
              "      <td>9976970</td>\n",
              "      <td>아 더빙 진짜 짜증나네요 목소리</td>\n",
              "      <td>0</td>\n",
              "    </tr>\n",
              "    <tr>\n",
              "      <th>1</th>\n",
              "      <td>3819312</td>\n",
              "      <td>흠포스터보고 초딩영화줄오버연기조차 가볍지 않구나</td>\n",
              "      <td>1</td>\n",
              "    </tr>\n",
              "    <tr>\n",
              "      <th>2</th>\n",
              "      <td>10265843</td>\n",
              "      <td>너무재밓었다그래서보는것을추천한다</td>\n",
              "      <td>0</td>\n",
              "    </tr>\n",
              "    <tr>\n",
              "      <th>3</th>\n",
              "      <td>9045019</td>\n",
              "      <td>교도소 이야기구먼 솔직히 재미는 없다평점 조정</td>\n",
              "      <td>0</td>\n",
              "    </tr>\n",
              "    <tr>\n",
              "      <th>4</th>\n",
              "      <td>6483659</td>\n",
              "      <td>사이몬페그의 익살스런 연기가 돋보였던 영화스파이더맨에서 늙어보이기만 했던 커스틴 던...</td>\n",
              "      <td>1</td>\n",
              "    </tr>\n",
              "  </tbody>\n",
              "</table>\n",
              "</div>\n",
              "    <div class=\"colab-df-buttons\">\n",
              "\n",
              "  <div class=\"colab-df-container\">\n",
              "    <button class=\"colab-df-convert\" onclick=\"convertToInteractive('df-6fdb144a-868d-49ed-b59b-67bde6b7ecf1')\"\n",
              "            title=\"Convert this dataframe to an interactive table.\"\n",
              "            style=\"display:none;\">\n",
              "\n",
              "  <svg xmlns=\"http://www.w3.org/2000/svg\" height=\"24px\" viewBox=\"0 -960 960 960\">\n",
              "    <path d=\"M120-120v-720h720v720H120Zm60-500h600v-160H180v160Zm220 220h160v-160H400v160Zm0 220h160v-160H400v160ZM180-400h160v-160H180v160Zm440 0h160v-160H620v160ZM180-180h160v-160H180v160Zm440 0h160v-160H620v160Z\"/>\n",
              "  </svg>\n",
              "    </button>\n",
              "\n",
              "  <style>\n",
              "    .colab-df-container {\n",
              "      display:flex;\n",
              "      gap: 12px;\n",
              "    }\n",
              "\n",
              "    .colab-df-convert {\n",
              "      background-color: #E8F0FE;\n",
              "      border: none;\n",
              "      border-radius: 50%;\n",
              "      cursor: pointer;\n",
              "      display: none;\n",
              "      fill: #1967D2;\n",
              "      height: 32px;\n",
              "      padding: 0 0 0 0;\n",
              "      width: 32px;\n",
              "    }\n",
              "\n",
              "    .colab-df-convert:hover {\n",
              "      background-color: #E2EBFA;\n",
              "      box-shadow: 0px 1px 2px rgba(60, 64, 67, 0.3), 0px 1px 3px 1px rgba(60, 64, 67, 0.15);\n",
              "      fill: #174EA6;\n",
              "    }\n",
              "\n",
              "    .colab-df-buttons div {\n",
              "      margin-bottom: 4px;\n",
              "    }\n",
              "\n",
              "    [theme=dark] .colab-df-convert {\n",
              "      background-color: #3B4455;\n",
              "      fill: #D2E3FC;\n",
              "    }\n",
              "\n",
              "    [theme=dark] .colab-df-convert:hover {\n",
              "      background-color: #434B5C;\n",
              "      box-shadow: 0px 1px 3px 1px rgba(0, 0, 0, 0.15);\n",
              "      filter: drop-shadow(0px 1px 2px rgba(0, 0, 0, 0.3));\n",
              "      fill: #FFFFFF;\n",
              "    }\n",
              "  </style>\n",
              "\n",
              "    <script>\n",
              "      const buttonEl =\n",
              "        document.querySelector('#df-6fdb144a-868d-49ed-b59b-67bde6b7ecf1 button.colab-df-convert');\n",
              "      buttonEl.style.display =\n",
              "        google.colab.kernel.accessAllowed ? 'block' : 'none';\n",
              "\n",
              "      async function convertToInteractive(key) {\n",
              "        const element = document.querySelector('#df-6fdb144a-868d-49ed-b59b-67bde6b7ecf1');\n",
              "        const dataTable =\n",
              "          await google.colab.kernel.invokeFunction('convertToInteractive',\n",
              "                                                    [key], {});\n",
              "        if (!dataTable) return;\n",
              "\n",
              "        const docLinkHtml = 'Like what you see? Visit the ' +\n",
              "          '<a target=\"_blank\" href=https://colab.research.google.com/notebooks/data_table.ipynb>data table notebook</a>'\n",
              "          + ' to learn more about interactive tables.';\n",
              "        element.innerHTML = '';\n",
              "        dataTable['output_type'] = 'display_data';\n",
              "        await google.colab.output.renderOutput(dataTable, element);\n",
              "        const docLink = document.createElement('div');\n",
              "        docLink.innerHTML = docLinkHtml;\n",
              "        element.appendChild(docLink);\n",
              "      }\n",
              "    </script>\n",
              "  </div>\n",
              "\n",
              "\n",
              "<div id=\"df-a5d496cd-2c97-44de-9606-28ab1bdaeb97\">\n",
              "  <button class=\"colab-df-quickchart\" onclick=\"quickchart('df-a5d496cd-2c97-44de-9606-28ab1bdaeb97')\"\n",
              "            title=\"Suggest charts.\"\n",
              "            style=\"display:none;\">\n",
              "\n",
              "<svg xmlns=\"http://www.w3.org/2000/svg\" height=\"24px\"viewBox=\"0 0 24 24\"\n",
              "     width=\"24px\">\n",
              "    <g>\n",
              "        <path d=\"M19 3H5c-1.1 0-2 .9-2 2v14c0 1.1.9 2 2 2h14c1.1 0 2-.9 2-2V5c0-1.1-.9-2-2-2zM9 17H7v-7h2v7zm4 0h-2V7h2v10zm4 0h-2v-4h2v4z\"/>\n",
              "    </g>\n",
              "</svg>\n",
              "  </button>\n",
              "\n",
              "<style>\n",
              "  .colab-df-quickchart {\n",
              "      --bg-color: #E8F0FE;\n",
              "      --fill-color: #1967D2;\n",
              "      --hover-bg-color: #E2EBFA;\n",
              "      --hover-fill-color: #174EA6;\n",
              "      --disabled-fill-color: #AAA;\n",
              "      --disabled-bg-color: #DDD;\n",
              "  }\n",
              "\n",
              "  [theme=dark] .colab-df-quickchart {\n",
              "      --bg-color: #3B4455;\n",
              "      --fill-color: #D2E3FC;\n",
              "      --hover-bg-color: #434B5C;\n",
              "      --hover-fill-color: #FFFFFF;\n",
              "      --disabled-bg-color: #3B4455;\n",
              "      --disabled-fill-color: #666;\n",
              "  }\n",
              "\n",
              "  .colab-df-quickchart {\n",
              "    background-color: var(--bg-color);\n",
              "    border: none;\n",
              "    border-radius: 50%;\n",
              "    cursor: pointer;\n",
              "    display: none;\n",
              "    fill: var(--fill-color);\n",
              "    height: 32px;\n",
              "    padding: 0;\n",
              "    width: 32px;\n",
              "  }\n",
              "\n",
              "  .colab-df-quickchart:hover {\n",
              "    background-color: var(--hover-bg-color);\n",
              "    box-shadow: 0 1px 2px rgba(60, 64, 67, 0.3), 0 1px 3px 1px rgba(60, 64, 67, 0.15);\n",
              "    fill: var(--button-hover-fill-color);\n",
              "  }\n",
              "\n",
              "  .colab-df-quickchart-complete:disabled,\n",
              "  .colab-df-quickchart-complete:disabled:hover {\n",
              "    background-color: var(--disabled-bg-color);\n",
              "    fill: var(--disabled-fill-color);\n",
              "    box-shadow: none;\n",
              "  }\n",
              "\n",
              "  .colab-df-spinner {\n",
              "    border: 2px solid var(--fill-color);\n",
              "    border-color: transparent;\n",
              "    border-bottom-color: var(--fill-color);\n",
              "    animation:\n",
              "      spin 1s steps(1) infinite;\n",
              "  }\n",
              "\n",
              "  @keyframes spin {\n",
              "    0% {\n",
              "      border-color: transparent;\n",
              "      border-bottom-color: var(--fill-color);\n",
              "      border-left-color: var(--fill-color);\n",
              "    }\n",
              "    20% {\n",
              "      border-color: transparent;\n",
              "      border-left-color: var(--fill-color);\n",
              "      border-top-color: var(--fill-color);\n",
              "    }\n",
              "    30% {\n",
              "      border-color: transparent;\n",
              "      border-left-color: var(--fill-color);\n",
              "      border-top-color: var(--fill-color);\n",
              "      border-right-color: var(--fill-color);\n",
              "    }\n",
              "    40% {\n",
              "      border-color: transparent;\n",
              "      border-right-color: var(--fill-color);\n",
              "      border-top-color: var(--fill-color);\n",
              "    }\n",
              "    60% {\n",
              "      border-color: transparent;\n",
              "      border-right-color: var(--fill-color);\n",
              "    }\n",
              "    80% {\n",
              "      border-color: transparent;\n",
              "      border-right-color: var(--fill-color);\n",
              "      border-bottom-color: var(--fill-color);\n",
              "    }\n",
              "    90% {\n",
              "      border-color: transparent;\n",
              "      border-bottom-color: var(--fill-color);\n",
              "    }\n",
              "  }\n",
              "</style>\n",
              "\n",
              "  <script>\n",
              "    async function quickchart(key) {\n",
              "      const quickchartButtonEl =\n",
              "        document.querySelector('#' + key + ' button');\n",
              "      quickchartButtonEl.disabled = true;  // To prevent multiple clicks.\n",
              "      quickchartButtonEl.classList.add('colab-df-spinner');\n",
              "      try {\n",
              "        const charts = await google.colab.kernel.invokeFunction(\n",
              "            'suggestCharts', [key], {});\n",
              "      } catch (error) {\n",
              "        console.error('Error during call to suggestCharts:', error);\n",
              "      }\n",
              "      quickchartButtonEl.classList.remove('colab-df-spinner');\n",
              "      quickchartButtonEl.classList.add('colab-df-quickchart-complete');\n",
              "    }\n",
              "    (() => {\n",
              "      let quickchartButtonEl =\n",
              "        document.querySelector('#df-a5d496cd-2c97-44de-9606-28ab1bdaeb97 button');\n",
              "      quickchartButtonEl.style.display =\n",
              "        google.colab.kernel.accessAllowed ? 'block' : 'none';\n",
              "    })();\n",
              "  </script>\n",
              "</div>\n",
              "    </div>\n",
              "  </div>\n"
            ]
          },
          "metadata": {},
          "execution_count": 19
        }
      ],
      "source": [
        "# `.str.replace()` 메서드는 문자열 내에서 일치하는 부분을 다른 문자열로 대체합니다.\n",
        "# 첫 번째 인자는 찾을 패턴, 두 번째 인자는 대체할 문자열(여기서는 빈 문자열로 제거하는 효과를 가져옴)입니다.\n",
        "\n",
        "# \"[^ㄱ-ㅎㅏ-ㅣ가-힣 ]\" 패턴은\n",
        "# - `^`: 부정 문자 클래스를 의미합니다. (여기서는 대괄호([]) 내부의 ^는 부정을 의미합니다.)\n",
        "# - `ㄱ-ㅎㅏ-ㅣ가-힣`: 한글 자음, 모음 및 모든 한글 문자를 포함합니다.\n",
        "# - ` ` (공백): 공백 문자를 의미합니다.\n",
        "# 따라서, 이 패턴은 한글과 공백을 제외한 모든 문자를 찾아내는 패턴입니다.\n",
        "\n",
        "# `train_data['document']` 열에서 한글과 공백을 제외하고 모든 문자를 제거합니다.\n",
        "train_data['document'] = train_data['document'].str.replace(\"[^ㄱ-ㅎㅏ-ㅣ가-힣 ]\",\"\")\n",
        "\n",
        "# `train_data`의 상위 5개 행을 출력하여 결과를 확인합니다.\n",
        "train_data[:5]\n"
      ]
    },
    {
      "cell_type": "code",
      "execution_count": 20,
      "metadata": {
        "id": "Yeb61eMYiano",
        "colab": {
          "base_uri": "https://localhost:8080/"
        },
        "outputId": "5822d11f-b147-46f8-e5b1-4d984e3c659c"
      },
      "outputs": [
        {
          "output_type": "stream",
          "name": "stdout",
          "text": [
            "id            0\n",
            "document    789\n",
            "label         0\n",
            "dtype: int64\n"
          ]
        },
        {
          "output_type": "stream",
          "name": "stderr",
          "text": [
            "<ipython-input-20-eb1e14487e67>:8: FutureWarning: The default value of regex will change from True to False in a future version.\n",
            "  train_data['document'] = train_data['document'].str.replace('^ +', \"\")\n"
          ]
        }
      ],
      "source": [
        "# `.str.replace()` 메서드를 사용하여 문자열 내의 패턴을 다른 문자열로 대체합니다.\n",
        "# '^ +': 패턴은\n",
        "# - `^`: 문자열의 시작을 나타내는 메타문자입니다.\n",
        "# - `+`: 앞의 문자(여기서는 공백)가 1번 이상 반복될 때를 나타내는 메타문자입니다.\n",
        "# 따라서, 이 패턴은 문자열 시작에서 연속된 공백을 찾습니다.\n",
        "\n",
        "# `train_data['document']` 열에서 문자열 시작 부분의 연속된 공백을 제거합니다.\n",
        "train_data['document'] = train_data['document'].str.replace('^ +', \"\")\n",
        "\n",
        "# `replace()` 메서드를 사용하여 데이터프레임 내의 특정 값을 다른 값으로 대체합니다.\n",
        "# 빈 문자열('')인 `document` 값을 NaN으로 변경합니다.\n",
        "train_data['document'].replace('', np.nan, inplace=True)\n",
        "\n",
        "# 결측값의 개수를 확인하기 위해 `isnull().sum()` 메서드를 사용합니다.\n",
        "# `train_data` 데이터프레임 내 각 열에서 결측값의 개수를 출력합니다.\n",
        "print(train_data.isnull().sum())\n"
      ]
    },
    {
      "cell_type": "code",
      "execution_count": 21,
      "metadata": {
        "id": "njuk45SziaqC",
        "colab": {
          "base_uri": "https://localhost:8080/",
          "height": 204
        },
        "outputId": "80c8f492-0095-419b-96a1-86f1c08842f7"
      },
      "outputs": [
        {
          "output_type": "execute_result",
          "data": {
            "text/plain": [
              "           id document  label\n",
              "404   4221289      NaN      0\n",
              "412   9509970      NaN      1\n",
              "470  10147571      NaN      1\n",
              "584   7117896      NaN      0\n",
              "593   6478189      NaN      0"
            ],
            "text/html": [
              "\n",
              "  <div id=\"df-6e4468a4-713e-4cbb-b268-1c605c1f8074\" class=\"colab-df-container\">\n",
              "    <div>\n",
              "<style scoped>\n",
              "    .dataframe tbody tr th:only-of-type {\n",
              "        vertical-align: middle;\n",
              "    }\n",
              "\n",
              "    .dataframe tbody tr th {\n",
              "        vertical-align: top;\n",
              "    }\n",
              "\n",
              "    .dataframe thead th {\n",
              "        text-align: right;\n",
              "    }\n",
              "</style>\n",
              "<table border=\"1\" class=\"dataframe\">\n",
              "  <thead>\n",
              "    <tr style=\"text-align: right;\">\n",
              "      <th></th>\n",
              "      <th>id</th>\n",
              "      <th>document</th>\n",
              "      <th>label</th>\n",
              "    </tr>\n",
              "  </thead>\n",
              "  <tbody>\n",
              "    <tr>\n",
              "      <th>404</th>\n",
              "      <td>4221289</td>\n",
              "      <td>NaN</td>\n",
              "      <td>0</td>\n",
              "    </tr>\n",
              "    <tr>\n",
              "      <th>412</th>\n",
              "      <td>9509970</td>\n",
              "      <td>NaN</td>\n",
              "      <td>1</td>\n",
              "    </tr>\n",
              "    <tr>\n",
              "      <th>470</th>\n",
              "      <td>10147571</td>\n",
              "      <td>NaN</td>\n",
              "      <td>1</td>\n",
              "    </tr>\n",
              "    <tr>\n",
              "      <th>584</th>\n",
              "      <td>7117896</td>\n",
              "      <td>NaN</td>\n",
              "      <td>0</td>\n",
              "    </tr>\n",
              "    <tr>\n",
              "      <th>593</th>\n",
              "      <td>6478189</td>\n",
              "      <td>NaN</td>\n",
              "      <td>0</td>\n",
              "    </tr>\n",
              "  </tbody>\n",
              "</table>\n",
              "</div>\n",
              "    <div class=\"colab-df-buttons\">\n",
              "\n",
              "  <div class=\"colab-df-container\">\n",
              "    <button class=\"colab-df-convert\" onclick=\"convertToInteractive('df-6e4468a4-713e-4cbb-b268-1c605c1f8074')\"\n",
              "            title=\"Convert this dataframe to an interactive table.\"\n",
              "            style=\"display:none;\">\n",
              "\n",
              "  <svg xmlns=\"http://www.w3.org/2000/svg\" height=\"24px\" viewBox=\"0 -960 960 960\">\n",
              "    <path d=\"M120-120v-720h720v720H120Zm60-500h600v-160H180v160Zm220 220h160v-160H400v160Zm0 220h160v-160H400v160ZM180-400h160v-160H180v160Zm440 0h160v-160H620v160ZM180-180h160v-160H180v160Zm440 0h160v-160H620v160Z\"/>\n",
              "  </svg>\n",
              "    </button>\n",
              "\n",
              "  <style>\n",
              "    .colab-df-container {\n",
              "      display:flex;\n",
              "      gap: 12px;\n",
              "    }\n",
              "\n",
              "    .colab-df-convert {\n",
              "      background-color: #E8F0FE;\n",
              "      border: none;\n",
              "      border-radius: 50%;\n",
              "      cursor: pointer;\n",
              "      display: none;\n",
              "      fill: #1967D2;\n",
              "      height: 32px;\n",
              "      padding: 0 0 0 0;\n",
              "      width: 32px;\n",
              "    }\n",
              "\n",
              "    .colab-df-convert:hover {\n",
              "      background-color: #E2EBFA;\n",
              "      box-shadow: 0px 1px 2px rgba(60, 64, 67, 0.3), 0px 1px 3px 1px rgba(60, 64, 67, 0.15);\n",
              "      fill: #174EA6;\n",
              "    }\n",
              "\n",
              "    .colab-df-buttons div {\n",
              "      margin-bottom: 4px;\n",
              "    }\n",
              "\n",
              "    [theme=dark] .colab-df-convert {\n",
              "      background-color: #3B4455;\n",
              "      fill: #D2E3FC;\n",
              "    }\n",
              "\n",
              "    [theme=dark] .colab-df-convert:hover {\n",
              "      background-color: #434B5C;\n",
              "      box-shadow: 0px 1px 3px 1px rgba(0, 0, 0, 0.15);\n",
              "      filter: drop-shadow(0px 1px 2px rgba(0, 0, 0, 0.3));\n",
              "      fill: #FFFFFF;\n",
              "    }\n",
              "  </style>\n",
              "\n",
              "    <script>\n",
              "      const buttonEl =\n",
              "        document.querySelector('#df-6e4468a4-713e-4cbb-b268-1c605c1f8074 button.colab-df-convert');\n",
              "      buttonEl.style.display =\n",
              "        google.colab.kernel.accessAllowed ? 'block' : 'none';\n",
              "\n",
              "      async function convertToInteractive(key) {\n",
              "        const element = document.querySelector('#df-6e4468a4-713e-4cbb-b268-1c605c1f8074');\n",
              "        const dataTable =\n",
              "          await google.colab.kernel.invokeFunction('convertToInteractive',\n",
              "                                                    [key], {});\n",
              "        if (!dataTable) return;\n",
              "\n",
              "        const docLinkHtml = 'Like what you see? Visit the ' +\n",
              "          '<a target=\"_blank\" href=https://colab.research.google.com/notebooks/data_table.ipynb>data table notebook</a>'\n",
              "          + ' to learn more about interactive tables.';\n",
              "        element.innerHTML = '';\n",
              "        dataTable['output_type'] = 'display_data';\n",
              "        await google.colab.output.renderOutput(dataTable, element);\n",
              "        const docLink = document.createElement('div');\n",
              "        docLink.innerHTML = docLinkHtml;\n",
              "        element.appendChild(docLink);\n",
              "      }\n",
              "    </script>\n",
              "  </div>\n",
              "\n",
              "\n",
              "<div id=\"df-b0293c7a-d0dd-479f-be89-4e56f360e475\">\n",
              "  <button class=\"colab-df-quickchart\" onclick=\"quickchart('df-b0293c7a-d0dd-479f-be89-4e56f360e475')\"\n",
              "            title=\"Suggest charts.\"\n",
              "            style=\"display:none;\">\n",
              "\n",
              "<svg xmlns=\"http://www.w3.org/2000/svg\" height=\"24px\"viewBox=\"0 0 24 24\"\n",
              "     width=\"24px\">\n",
              "    <g>\n",
              "        <path d=\"M19 3H5c-1.1 0-2 .9-2 2v14c0 1.1.9 2 2 2h14c1.1 0 2-.9 2-2V5c0-1.1-.9-2-2-2zM9 17H7v-7h2v7zm4 0h-2V7h2v10zm4 0h-2v-4h2v4z\"/>\n",
              "    </g>\n",
              "</svg>\n",
              "  </button>\n",
              "\n",
              "<style>\n",
              "  .colab-df-quickchart {\n",
              "      --bg-color: #E8F0FE;\n",
              "      --fill-color: #1967D2;\n",
              "      --hover-bg-color: #E2EBFA;\n",
              "      --hover-fill-color: #174EA6;\n",
              "      --disabled-fill-color: #AAA;\n",
              "      --disabled-bg-color: #DDD;\n",
              "  }\n",
              "\n",
              "  [theme=dark] .colab-df-quickchart {\n",
              "      --bg-color: #3B4455;\n",
              "      --fill-color: #D2E3FC;\n",
              "      --hover-bg-color: #434B5C;\n",
              "      --hover-fill-color: #FFFFFF;\n",
              "      --disabled-bg-color: #3B4455;\n",
              "      --disabled-fill-color: #666;\n",
              "  }\n",
              "\n",
              "  .colab-df-quickchart {\n",
              "    background-color: var(--bg-color);\n",
              "    border: none;\n",
              "    border-radius: 50%;\n",
              "    cursor: pointer;\n",
              "    display: none;\n",
              "    fill: var(--fill-color);\n",
              "    height: 32px;\n",
              "    padding: 0;\n",
              "    width: 32px;\n",
              "  }\n",
              "\n",
              "  .colab-df-quickchart:hover {\n",
              "    background-color: var(--hover-bg-color);\n",
              "    box-shadow: 0 1px 2px rgba(60, 64, 67, 0.3), 0 1px 3px 1px rgba(60, 64, 67, 0.15);\n",
              "    fill: var(--button-hover-fill-color);\n",
              "  }\n",
              "\n",
              "  .colab-df-quickchart-complete:disabled,\n",
              "  .colab-df-quickchart-complete:disabled:hover {\n",
              "    background-color: var(--disabled-bg-color);\n",
              "    fill: var(--disabled-fill-color);\n",
              "    box-shadow: none;\n",
              "  }\n",
              "\n",
              "  .colab-df-spinner {\n",
              "    border: 2px solid var(--fill-color);\n",
              "    border-color: transparent;\n",
              "    border-bottom-color: var(--fill-color);\n",
              "    animation:\n",
              "      spin 1s steps(1) infinite;\n",
              "  }\n",
              "\n",
              "  @keyframes spin {\n",
              "    0% {\n",
              "      border-color: transparent;\n",
              "      border-bottom-color: var(--fill-color);\n",
              "      border-left-color: var(--fill-color);\n",
              "    }\n",
              "    20% {\n",
              "      border-color: transparent;\n",
              "      border-left-color: var(--fill-color);\n",
              "      border-top-color: var(--fill-color);\n",
              "    }\n",
              "    30% {\n",
              "      border-color: transparent;\n",
              "      border-left-color: var(--fill-color);\n",
              "      border-top-color: var(--fill-color);\n",
              "      border-right-color: var(--fill-color);\n",
              "    }\n",
              "    40% {\n",
              "      border-color: transparent;\n",
              "      border-right-color: var(--fill-color);\n",
              "      border-top-color: var(--fill-color);\n",
              "    }\n",
              "    60% {\n",
              "      border-color: transparent;\n",
              "      border-right-color: var(--fill-color);\n",
              "    }\n",
              "    80% {\n",
              "      border-color: transparent;\n",
              "      border-right-color: var(--fill-color);\n",
              "      border-bottom-color: var(--fill-color);\n",
              "    }\n",
              "    90% {\n",
              "      border-color: transparent;\n",
              "      border-bottom-color: var(--fill-color);\n",
              "    }\n",
              "  }\n",
              "</style>\n",
              "\n",
              "  <script>\n",
              "    async function quickchart(key) {\n",
              "      const quickchartButtonEl =\n",
              "        document.querySelector('#' + key + ' button');\n",
              "      quickchartButtonEl.disabled = true;  // To prevent multiple clicks.\n",
              "      quickchartButtonEl.classList.add('colab-df-spinner');\n",
              "      try {\n",
              "        const charts = await google.colab.kernel.invokeFunction(\n",
              "            'suggestCharts', [key], {});\n",
              "      } catch (error) {\n",
              "        console.error('Error during call to suggestCharts:', error);\n",
              "      }\n",
              "      quickchartButtonEl.classList.remove('colab-df-spinner');\n",
              "      quickchartButtonEl.classList.add('colab-df-quickchart-complete');\n",
              "    }\n",
              "    (() => {\n",
              "      let quickchartButtonEl =\n",
              "        document.querySelector('#df-b0293c7a-d0dd-479f-be89-4e56f360e475 button');\n",
              "      quickchartButtonEl.style.display =\n",
              "        google.colab.kernel.accessAllowed ? 'block' : 'none';\n",
              "    })();\n",
              "  </script>\n",
              "</div>\n",
              "    </div>\n",
              "  </div>\n"
            ]
          },
          "metadata": {},
          "execution_count": 21
        }
      ],
      "source": [
        "# `loc[]` 메서드는 특정 조건을 만족하는 행과 열을 선택하는 데 사용됩니다.\n",
        "\n",
        "# `train_data.document.isnull()`:\n",
        "# - `document.isnull()`은 `document` 열의 각 값이 NaN인지 아닌지를 판별하여 Boolean 형태의 Series를 반환합니다.\n",
        "# - `train_data.loc[train_data.document.isnull()]`은 `document` 열의 값이 NaN인 모든 행을 선택합니다.\n",
        "\n",
        "# `train_data` 데이터프레임에서 `document` 열의 값이 NaN인 행들 중 상위 5개 행을 선택하여 출력합니다.\n",
        "train_data.loc[train_data.document.isnull()][:5]\n"
      ]
    },
    {
      "cell_type": "code",
      "execution_count": 22,
      "metadata": {
        "id": "OA9hT0otiase",
        "colab": {
          "base_uri": "https://localhost:8080/"
        },
        "outputId": "c1a65c84-3d01-4596-fd9a-e14375d93fcf"
      },
      "outputs": [
        {
          "output_type": "stream",
          "name": "stdout",
          "text": [
            "145393\n"
          ]
        }
      ],
      "source": [
        "# `dropna()` 메서드는 데이터프레임에서 NaN 값을 포함하는 행 또는 열을 제거하는 데 사용됩니다.\n",
        "# `how='any'` 인자는 NaN 값을 포함하는 어떤 행이라도 제거하라는 의미입니다.\n",
        "\n",
        "# `train_data` 데이터프레임에서 NaN 값을 포함하는 모든 행을 제거합니다.\n",
        "train_data = train_data.dropna(how = 'any')\n",
        "\n",
        "# `len()` 함수는 주어진 객체의 길이나 항목의 개수를 반환합니다.\n",
        "# 여기서는 `train_data` 데이터프레임의 행의 개수를 반환하게 됩니다.\n",
        "\n",
        "# 제거 후의 `train_data` 데이터프레임의 행 개수(샘플 개수)를 출력합니다.\n",
        "print(len(train_data))\n"
      ]
    },
    {
      "cell_type": "code",
      "execution_count": 23,
      "metadata": {
        "id": "X_1iEBi0iavE",
        "colab": {
          "base_uri": "https://localhost:8080/"
        },
        "outputId": "0d064e0e-7ebb-431f-948f-87e3fa5aa9c1"
      },
      "outputs": [
        {
          "output_type": "stream",
          "name": "stdout",
          "text": [
            "전처리 후 테스트용 샘플의 개수 : 48852\n"
          ]
        },
        {
          "output_type": "stream",
          "name": "stderr",
          "text": [
            "<ipython-input-23-1c40973cae62>:6: FutureWarning: The default value of regex will change from True to False in a future version.\n",
            "  test_data['document'] = test_data['document'].str.replace(\"[^ㄱ-ㅎㅏ-ㅣ가-힣 ]\",\"\")\n",
            "<ipython-input-23-1c40973cae62>:9: FutureWarning: The default value of regex will change from True to False in a future version.\n",
            "  test_data['document'] = test_data['document'].str.replace('^ +', \"\")\n"
          ]
        }
      ],
      "source": [
        "# `drop_duplicates()` 메서드는 데이터프레임에서 중복된 행을 제거하는 데 사용됩니다.\n",
        "# `subset=['document']` 인자를 사용하여 `document` 열의 중복 값만을 기준으로 중복 행을 제거합니다.\n",
        "test_data.drop_duplicates(subset = ['document'], inplace=True)\n",
        "\n",
        "# `.str.replace()` 메서드를 사용하여 `document` 열의 문자열 내에서 한글과 공백을 제외한 모든 문자를 제거합니다.\n",
        "test_data['document'] = test_data['document'].str.replace(\"[^ㄱ-ㅎㅏ-ㅣ가-힣 ]\",\"\")\n",
        "\n",
        "# 문자열 시작 부분의 연속된 공백을 제거합니다.\n",
        "test_data['document'] = test_data['document'].str.replace('^ +', \"\")\n",
        "\n",
        "# 빈 문자열('')인 `document` 값을 NaN으로 변경합니다.\n",
        "test_data['document'].replace('', np.nan, inplace=True)\n",
        "\n",
        "# `dropna()` 메서드를 사용하여 NaN 값을 포함하는 모든 행을 제거합니다.\n",
        "test_data = test_data.dropna(how='any')\n",
        "\n",
        "# `len()` 함수를 사용하여 전처리 후의 `test_data` 데이터프레임의 행 개수(샘플 개수)를 출력합니다.\n",
        "print('전처리 후 테스트용 샘플의 개수 :',len(test_data))\n"
      ]
    },
    {
      "cell_type": "code",
      "execution_count": 24,
      "metadata": {
        "id": "f4a28betiaxr"
      },
      "outputs": [],
      "source": [
        "# 불용어(stopwords)란, 자주 등장하지만 텍스트의 실질적인 의미 분석에 크게 기여하지 않는 단어를 의미합니다.\n",
        "# 예를 들어, 조사, 접속사 등이 불용어로 지정될 수 있습니다.\n",
        "# 여기에서는 일부 한국어 불용어를 리스트로 정의하였습니다.\n",
        "\n",
        "stopwords = ['의','가','이','은','들','는','좀','잘','걍','과','도','를','으로','자','에','와','한','하다']\n"
      ]
    },
    {
      "cell_type": "code",
      "execution_count": 25,
      "metadata": {
        "colab": {
          "base_uri": "https://localhost:8080/"
        },
        "id": "QjaAiXj_ia0L",
        "outputId": "e7ee6d92-d4bb-4c1a-f705-73fb1849c295"
      },
      "outputs": [
        {
          "output_type": "stream",
          "name": "stdout",
          "text": [
            "['오다', '이렇다', '것', '도', '영화', '라고', '차라리', '뮤직비디오', '를', '만들다', '게', '나다', '뻔']\n"
          ]
        }
      ],
      "source": [
        "# `Okt`는 한국어 자연어 처리를 위한 형태소 분석기입니다.\n",
        "# 형태소 분석은 주어진 텍스트를 의미 있는 최소 단위인 형태소로 나누는 작업을 의미합니다.\n",
        "\n",
        "# `Okt` 객체를 생성합니다.\n",
        "okt = Okt()\n",
        "\n",
        "# `morphs()` 메서드는 주어진 텍스트를 형태소로 분리하여 리스트로 반환합니다.\n",
        "# `stem=True` 인자는 단어를 원형으로 변환해주는 옵션입니다.\n",
        "result = okt.morphs('와 이런 것도 영화라고 차라리 뮤직비디오를 만드는 게 나을 뻔', stem = True)\n",
        "\n",
        "print(result)\n"
      ]
    },
    {
      "cell_type": "code",
      "execution_count": 26,
      "metadata": {
        "colab": {
          "base_uri": "https://localhost:8080/"
        },
        "id": "988TPulcia2g",
        "outputId": "256149dc-819b-432a-adfb-2dcc4b924554"
      },
      "outputs": [
        {
          "output_type": "stream",
          "name": "stderr",
          "text": [
            "100%|██████████| 145393/145393 [06:26<00:00, 376.65it/s]\n"
          ]
        }
      ],
      "source": [
        "# 빈 리스트 X_train을 초기화합니다. 이 리스트에는 토큰화 및 불용어가 제거된 문장들이 저장될 것입니다.\n",
        "X_train = []\n",
        "\n",
        "# tqdm 함수는 반복문의 진행 상황을 프로그레스 바 형태로 보여주는 라이브러리입니다.\n",
        "# tqdm(train_data['document'])는 train_data의 document 열의 각 문장에 대해 반복하며 진행 상황을 시각적으로 보여줍니다.\n",
        "for sentence in tqdm(train_data['document']):\n",
        "\n",
        "    # okt.morphs 함수를 사용하여 문장을 토큰화합니다. stem=True는 동사를 원형으로 변환하는 옵션입니다.\n",
        "    tokenized_sentence = okt.morphs(sentence, stem=True)\n",
        "\n",
        "    # 리스트 컴프리헨션을 사용하여 토큰화된 문장에서 불용어를 제거합니다.\n",
        "    stopwords_removed_sentence = [word for word in tokenized_sentence if not word in stopwords]\n",
        "\n",
        "    # 불용어가 제거된 문장을 X_train 리스트에 추가합니다.\n",
        "    X_train.append(stopwords_removed_sentence)\n"
      ]
    },
    {
      "cell_type": "code",
      "execution_count": 27,
      "metadata": {
        "colab": {
          "base_uri": "https://localhost:8080/"
        },
        "id": "TAgBGsPdlhV1",
        "outputId": "3c0c2ea1-36a3-40c0-aa87-8c1155cfd101"
      },
      "outputs": [
        {
          "output_type": "stream",
          "name": "stdout",
          "text": [
            "[['아', '더빙', '진짜', '짜증나다', '목소리'], ['흠', '포스터', '보고', '초딩', '영화', '줄', '오버', '연기', '조차', '가볍다', '않다'], ['너', '무재', '밓었', '다그', '래서', '보다', '추천', '다']]\n"
          ]
        }
      ],
      "source": [
        "# X_train의 첫 3개 샘플을 출력합니다.\n",
        "print(X_train[:3])\n"
      ]
    },
    {
      "cell_type": "code",
      "execution_count": 28,
      "metadata": {
        "id": "7Hdi2UuolhcV",
        "colab": {
          "base_uri": "https://localhost:8080/"
        },
        "outputId": "68eb0677-1663-47cf-ae18-b7e76cdb00c4"
      },
      "outputs": [
        {
          "output_type": "stream",
          "name": "stderr",
          "text": [
            "100%|██████████| 48852/48852 [02:08<00:00, 379.74it/s]\n"
          ]
        }
      ],
      "source": [
        "# 테스트 데이터에 대한 전처리\n",
        "\n",
        "X_test = [] # 전처리된 테스트 데이터를 저장할 리스트 초기화\n",
        "\n",
        "# tqdm은 for문의 진행 상황을 시각적으로 표현해줍니다.\n",
        "for sentence in tqdm(test_data['document']):\n",
        "\n",
        "    # 1. Okt 형태소 분석기를 사용하여 문장을 형태소로 분해하고 어근을 추출합니다.\n",
        "    tokenized_sentence = okt.morphs(sentence, stem=True)\n",
        "\n",
        "    # 2. 분해된 형태소 중에서 불용어(stopwords)에 해당하지 않는 것만을 선택하여 새로운 문장을 생성합니다.\n",
        "    stopwords_removed_sentence = [word for word in tokenized_sentence if not word in stopwords]\n",
        "\n",
        "    # 3. 불용어를 제거한 형태소 리스트를 X_test에 추가합니다.\n",
        "    X_test.append(stopwords_removed_sentence)\n",
        "\n",
        "# 위의 과정을 통해 테스트 데이터셋에 대한 전처리를 완료하며, 형태소 단위로 토큰화된 문장들의 리스트를 X_test에 저장합니다.\n"
      ]
    },
    {
      "cell_type": "code",
      "execution_count": 29,
      "metadata": {
        "id": "xUzhhccRia49"
      },
      "outputs": [],
      "source": [
        "# `Tokenizer`는 Keras에서 제공하는 텍스트 토큰화 유틸리티 클래스입니다.\n",
        "# 이 클래스를 사용하면 텍스트 데이터를 벡터화할 수 있습니다.\n",
        "\n",
        "# Tokenizer 객체를 생성합니다.\n",
        "tokenizer = Tokenizer()\n",
        "\n",
        "# `fit_on_texts` 메서드는 주어진 데이터에 대한 내부 단어장(vocabulary)을 생성합니다.\n",
        "# X_train의 각 문장에 포함된 단어들에 대해 고유한 정수 인덱스를 할당합니다.\n",
        "tokenizer.fit_on_texts(X_train)\n"
      ]
    },
    {
      "cell_type": "code",
      "execution_count": 30,
      "metadata": {
        "id": "I6mJPctcia7t",
        "colab": {
          "base_uri": "https://localhost:8080/"
        },
        "outputId": "20eb7d5c-abe1-4e06-a577-7119a5b5725f"
      },
      "outputs": [
        {
          "output_type": "stream",
          "name": "stdout",
          "text": [
            "단어 집합(vocabulary)의 크기 : 43752\n",
            "등장 빈도가 2번 이하인 희귀 단어의 수: 24337\n",
            "단어 집합에서 희귀 단어의 비율: 55.62488571950996\n",
            "전체 등장 빈도에서 희귀 단어 등장 빈도 비율: 1.8715872104872904\n"
          ]
        }
      ],
      "source": [
        "# threshold는 단어의 등장 빈도수에 대한 임계값입니다. 이 값보다 작은 빈도수를 가진 단어를 희귀 단어로 간주합니다.\n",
        "threshold = 3\n",
        "\n",
        "# 여러 통계치를 계산하기 위한 초기값을 설정합니다.\n",
        "total_cnt = len(tokenizer.word_index)  # 전체 단어의 개수\n",
        "rare_cnt = 0  # 임계값보다 작은 빈도수를 가진 단어의 개수\n",
        "total_freq = 0  # 모든 단어의 빈도수 합계\n",
        "rare_freq = 0  # 희귀 단어의 빈도수 합계\n",
        "\n",
        "# tokenizer.word_counts는 단어와 그 단어의 등장 빈도수를 가지는 딕셔너리입니다.\n",
        "for key, value in tokenizer.word_counts.items():\n",
        "    total_freq += value  # 모든 단어의 빈도수를 합산\n",
        "\n",
        "    # 만약 단어의 등장 빈도수가 threshold보다 작다면, 희귀 단어로 간주하여 통계치를 업데이트합니다.\n",
        "    if value < threshold:\n",
        "        rare_cnt += 1\n",
        "        rare_freq += value\n",
        "\n",
        "# 통계치를 출력합니다.\n",
        "print('단어 집합(vocabulary)의 크기 :', total_cnt)\n",
        "print('등장 빈도가 %s번 이하인 희귀 단어의 수: %s' % (threshold - 1, rare_cnt))\n",
        "print(\"단어 집합에서 희귀 단어의 비율:\", (rare_cnt / total_cnt) * 100)\n",
        "print(\"전체 등장 빈도에서 희귀 단어 등장 빈도 비율:\", (rare_freq / total_freq) * 100)\n"
      ]
    },
    {
      "cell_type": "code",
      "execution_count": 31,
      "metadata": {
        "id": "_N_HoG-fia-E",
        "colab": {
          "base_uri": "https://localhost:8080/"
        },
        "outputId": "00d2d1c8-b076-44d1-9356-45186def93f7"
      },
      "outputs": [
        {
          "output_type": "stream",
          "name": "stdout",
          "text": [
            "단어 집합의 크기 : 19416\n"
          ]
        }
      ],
      "source": [
        "# 희귀 단어를 제외한 단어 집합의 크기를 계산합니다.\n",
        "# 여기서 희귀 단어는 위에서 threshold를 기준으로 판별한 단어들입니다.\n",
        "\n",
        "# total_cnt에서 rare_cnt(희귀 단어의 수)를 빼주어 희귀 단어를 제외한 단어의 수를 구하고,\n",
        "# 0번 패딩 토큰을 고려하기 위해 1을 더해줍니다.\n",
        "vocab_size = total_cnt - rare_cnt + 1\n",
        "\n",
        "# 최종적으로 계산된 단어 집합의 크기를 출력합니다.\n",
        "print('단어 집합의 크기 :', vocab_size)\n"
      ]
    },
    {
      "cell_type": "code",
      "execution_count": 32,
      "metadata": {
        "id": "DIxIOmkmlKVM"
      },
      "outputs": [],
      "source": [
        "# 주어진 vocab_size를 이용하여 Tokenizer 객체를 생성합니다.\n",
        "# 이 Tokenizer는 훈련 데이터에서 가장 빈도수가 높은 (vocab_size-1)개의 단어만 사용하게 됩니다.\n",
        "# 나머지 단어들은 Out-Of-Vocabulary (OOV) 토큰으로 처리됩니다.\n",
        "tokenizer = Tokenizer(vocab_size)\n",
        "\n",
        "# X_train 데이터에 대해서 토큰화를 수행합니다. 이는 각 단어에 고유한 정수 인덱스를 부여하는 과정입니다.\n",
        "tokenizer.fit_on_texts(X_train)\n",
        "\n",
        "# texts_to_sequences 메서드는 주어진 텍스트 데이터를 위에서 부여된 정수 인덱스로 변환합니다.\n",
        "# 이를 통해 텍스트 데이터를 정수 시퀀스로 변환하게 됩니다.\n",
        "X_train = tokenizer.texts_to_sequences(X_train)\n",
        "X_test = tokenizer.texts_to_sequences(X_test)\n"
      ]
    },
    {
      "cell_type": "code",
      "execution_count": 33,
      "metadata": {
        "id": "Es9txIZrlKYI",
        "colab": {
          "base_uri": "https://localhost:8080/"
        },
        "outputId": "21990dae-a8d0-43bd-84ec-65cdb352afe8"
      },
      "outputs": [
        {
          "output_type": "stream",
          "name": "stdout",
          "text": [
            "[[50, 454, 16, 260, 659], [933, 457, 41, 602, 1, 214, 1449, 24, 961, 675, 19], [386, 2444, 2315, 5671, 2, 222, 9]]\n"
          ]
        }
      ],
      "source": [
        "# X_train의 첫 3개의 문장(리스트)를 출력합니다.\n",
        "\n",
        "# X_train은 각 문장에서 토큰화된 단어들이 해당 단어의 정수 인덱스로 변환된 시퀀스로 구성되어 있습니다.\n",
        "# 따라서, 아래의 출력은 각 문장의 단어들이 어떻게 정수 인덱스로 매핑되었는지를 보여줄 것입니다.\n",
        "# 예를 들면, 원래 문장 \"이 영화 좋다\"가 토큰화된 결과 [\"이\", \"영화\", \"좋다\"]는\n",
        "# 정수 인덱스로 변환된 [5, 3, 50]과 같은 형태로 표현될 수 있습니다.\n",
        "# (주: 여기서의 숫자는 예시입니다. 실제로는 단어에 부여된 정수 인덱스에 따라 다를 것입니다.)\n",
        "\n",
        "print(X_train[:3])\n"
      ]
    },
    {
      "cell_type": "code",
      "execution_count": 34,
      "metadata": {
        "id": "sVD3LujjlKaw"
      },
      "outputs": [],
      "source": [
        "# train_data에서 'label' 열을 추출하여 y_train에 저장합니다.\n",
        "# 이렇게 함으로써, y_train은 각 훈련 데이터의 문장에 대한 감성 라벨(예: 긍정, 부정)을 포함하게 됩니다.\n",
        "y_train = np.array(train_data['label'])\n",
        "\n",
        "# test_data에서 'label' 열을 추출하여 y_test에 저장합니다.\n",
        "# 이렇게 함으로써, y_test는 각 테스트 데이터의 문장에 대한 감성 라벨을 포함하게 됩니다.\n",
        "y_test = np.array(test_data['label'])\n"
      ]
    },
    {
      "cell_type": "code",
      "execution_count": 35,
      "metadata": {
        "id": "Q2iKnrN7lKdE"
      },
      "outputs": [],
      "source": [
        "# X_train에서 문장의 길이가 1 미만인 경우, 해당 문장의 인덱스를 drop_train에 저장합니다.\n",
        "# enumerate를 사용하여 X_train의 각 문장과 해당 문장의 인덱스를 함께 가져옵니다.\n",
        "# if len(sentence) < 1 조건문을 통해 문장의 길이가 1 미만인 경우를 확인합니다.\n",
        "# 이런 문장들은 전처리 과정에서 내용이 완전히 삭제되었을 가능성이 있습니다.\n",
        "\n",
        "drop_train = [index for index, sentence in enumerate(X_train) if len(sentence) < 1]\n"
      ]
    },
    {
      "cell_type": "code",
      "execution_count": 36,
      "metadata": {
        "id": "HTuJ5QSElKfU",
        "colab": {
          "base_uri": "https://localhost:8080/"
        },
        "outputId": "7661d6a5-fafb-4fb3-8554-9a3f73b5a955"
      },
      "outputs": [
        {
          "output_type": "stream",
          "name": "stdout",
          "text": [
            "145162\n",
            "145162\n"
          ]
        },
        {
          "output_type": "stream",
          "name": "stderr",
          "text": [
            "/usr/local/lib/python3.10/dist-packages/numpy/lib/function_base.py:5071: VisibleDeprecationWarning: Creating an ndarray from ragged nested sequences (which is a list-or-tuple of lists-or-tuples-or ndarrays with different lengths or shapes) is deprecated. If you meant to do this, you must specify 'dtype=object' when creating the ndarray.\n",
            "  arr = asarray(arr)\n"
          ]
        }
      ],
      "source": [
        "# 앞서 구한 drop_train에 저장된 인덱스들에 해당하는 샘플들을 X_train에서 제거합니다.\n",
        "# np.delete는 주어진 인덱스의 데이터를 삭제하는 NumPy 함수입니다.\n",
        "# axis=0은 행 방향으로 데이터를 삭제한다는 의미입니다.\n",
        "X_train = np.delete(X_train, drop_train, axis=0)\n",
        "\n",
        "# 동일한 인덱스들에 해당하는 샘플들을 y_train에서도 제거합니다.\n",
        "# 이렇게 해서 X_train과 y_train의 샘플들이 일치하게 됩니다.\n",
        "y_train = np.delete(y_train, drop_train, axis=0)\n",
        "\n",
        "# 빈 샘플들을 제거한 후의 X_train의 길이를 출력합니다.\n",
        "# 이 값은 전처리 후 남은 훈련 샘플의 개수를 나타냅니다.\n",
        "print(len(X_train))\n",
        "\n",
        "# y_train의 길이도 출력합니다.\n",
        "# 이 값도 X_train의 길이와 동일하게 나와야 합니다.\n",
        "print(len(y_train))\n"
      ]
    },
    {
      "cell_type": "code",
      "execution_count": 37,
      "metadata": {
        "id": "8gFYFUdZlKho",
        "colab": {
          "base_uri": "https://localhost:8080/",
          "height": 483
        },
        "outputId": "b990ff69-fa00-4dc7-e4b0-2bd918b80ce3"
      },
      "outputs": [
        {
          "output_type": "stream",
          "name": "stdout",
          "text": [
            "리뷰의 최대 길이 : 69\n",
            "리뷰의 평균 길이 : 10.812485361182679\n"
          ]
        },
        {
          "output_type": "display_data",
          "data": {
            "text/plain": [
              "<Figure size 640x480 with 1 Axes>"
            ],
            "image/png": "[encoded data removed]"
          },
          "metadata": {}
        }
      ],
      "source": [
        "# X_train에 있는 각 리뷰의 길이를 확인하여 가장 긴 리뷰의 길이를 출력합니다.\n",
        "print('리뷰의 최대 길이 :',max(len(review) for review in X_train))\n",
        "\n",
        "# X_train에 있는 모든 리뷰의 길이의 평균을 계산하고 출력합니다.\n",
        "# map 함수를 사용하여 각 리뷰의 길이를 구하고, sum 함수로 총 길이를 합산한 후, 리뷰의 총 개수로 나눠 평균을 구합니다.\n",
        "print('리뷰의 평균 길이 :',sum(map(len, X_train))/len(X_train))\n",
        "\n",
        "# 히스토그램을 사용하여 리뷰의 길이 분포를 시각화합니다.\n",
        "# X_train의 각 리뷰의 길이를 구하고, bins=50 옵션으로 50개의 구간으로 나누어 분포를 표시합니다.\n",
        "plt.hist([len(review) for review in X_train], bins=50)\n",
        "\n",
        "# x축의 라벨을 설정합니다.\n",
        "plt.xlabel('length of samples')\n",
        "\n",
        "# y축의 라벨을 설정합니다.\n",
        "plt.ylabel('number of samples')\n",
        "\n",
        "# 그래프를 화면에 표시합니다.\n",
        "plt.show()\n"
      ]
    },
    {
      "cell_type": "code",
      "execution_count": 38,
      "metadata": {
        "id": "94rWEzH7lKj_"
      },
      "outputs": [],
      "source": [
        "# 함수 정의: 최대 길이(max_len)와 중첩된 리스트(nested_list)를 인자로 받습니다.\n",
        "def below_threshold_len(max_len, nested_list):\n",
        "\n",
        "  # 길이가 max_len 이하인 내부 리스트의 개수를 저장할 변수를 초기화합니다.\n",
        "  count = 0\n",
        "\n",
        "  # nested_list 내의 각 내부 리스트에 대해서 반복합니다.\n",
        "  for sentence in nested_list:\n",
        "\n",
        "    # 해당 내부 리스트의 길이가 max_len 이하이면\n",
        "    if(len(sentence) <= max_len):\n",
        "        count = count + 1  # count 값을 1 증가시킵니다.\n",
        "\n",
        "  # 계산된 비율을 출력합니다.\n",
        "  # 길이가 max_len 이하인 내부 리스트의 개수(count)를 전체 내부 리스트의 개수(len(nested_list))로 나누어 비율을 계산하고, 그 값을 출력합니다.\n",
        "  print('전체 샘플 중 길이가 %s 이하인 샘플의 비율: %s'%(max_len, (count / len(nested_list))*100))\n"
      ]
    },
    {
      "cell_type": "code",
      "execution_count": 39,
      "metadata": {
        "id": "DWOHglZPlKmV",
        "colab": {
          "base_uri": "https://localhost:8080/"
        },
        "outputId": "e78f190d-7917-49cd-8bbb-ce2977bd23fb"
      },
      "outputs": [
        {
          "output_type": "stream",
          "name": "stdout",
          "text": [
            "전체 샘플 중 길이가 30 이하인 샘플의 비율: 94.31944999380003\n"
          ]
        }
      ],
      "source": [
        "# 최대 길이를 30으로 설정합니다.\n",
        "max_len = 30\n",
        "\n",
        "# below_threshold_len 함수를 호출하여 X_train 내의 각 리뷰의 길이가 30 이하인 샘플들의 비율을 출력합니다.\n",
        "below_threshold_len(max_len, X_train)\n"
      ]
    },
    {
      "cell_type": "code",
      "execution_count": 40,
      "metadata": {
        "id": "IFjkoSJQlKrb"
      },
      "outputs": [],
      "source": [
        "# pad_sequences 함수를 사용하여 X_train의 모든 시퀀스를 max_len으로 패딩합니다.\n",
        "# 만약 시퀀스의 길이가 max_len보다 짧다면 0으로 패딩됩니다.\n",
        "# 만약 시퀀스의 길이가 max_len보다 길다면 초과하는 부분이 잘려나갑니다.\n",
        "X_train = pad_sequences(X_train, maxlen=max_len)\n",
        "\n",
        "# 동일한 작업을 X_test에도 적용합니다.\n",
        "X_test = pad_sequences(X_test, maxlen=max_len)\n"
      ]
    },
    {
      "cell_type": "code",
      "execution_count": 41,
      "metadata": {
        "id": "uAtH0E3fnJwK",
        "colab": {
          "base_uri": "https://localhost:8080/"
        },
        "outputId": "8e7b3ed4-9d19-4714-9e11-63c874e250ca"
      },
      "outputs": [
        {
          "output_type": "stream",
          "name": "stdout",
          "text": [
            "Epoch 1/15\n",
            "1815/1815 [==============================] - ETA: 0s - loss: 0.4108 - acc: 0.8102\n",
            "Epoch 1: val_acc improved from -inf to 0.83729, saving model to best_model.h5\n",
            "1815/1815 [==============================] - 53s 25ms/step - loss: 0.4108 - acc: 0.8102 - val_loss: 0.3707 - val_acc: 0.8373\n",
            "Epoch 2/15\n",
            "  15/1815 [..............................] - ETA: 14s - loss: 0.3500 - acc: 0.8417"
          ]
        },
        {
          "output_type": "stream",
          "name": "stderr",
          "text": [
            "/usr/local/lib/python3.10/dist-packages/keras/src/engine/training.py:3000: UserWarning: You are saving your model as an HDF5 file via `model.save()`. This file format is considered legacy. We recommend using instead the native Keras format, e.g. `model.save('my_model.keras')`.\n",
            "  saving_api.save_model(\n"
          ]
        },
        {
          "output_type": "stream",
          "name": "stdout",
          "text": [
            "1815/1815 [==============================] - ETA: 0s - loss: 0.3459 - acc: 0.8492\n",
            "Epoch 2: val_acc improved from 0.83729 to 0.84497, saving model to best_model.h5\n",
            "1815/1815 [==============================] - 16s 9ms/step - loss: 0.3459 - acc: 0.8492 - val_loss: 0.3525 - val_acc: 0.8450\n",
            "Epoch 3/15\n",
            "1815/1815 [==============================] - ETA: 0s - loss: 0.3195 - acc: 0.8631\n",
            "Epoch 3: val_acc improved from 0.84497 to 0.84841, saving model to best_model.h5\n",
            "1815/1815 [==============================] - 15s 8ms/step - loss: 0.3195 - acc: 0.8631 - val_loss: 0.3492 - val_acc: 0.8484\n",
            "Epoch 4/15\n",
            "1815/1815 [==============================] - ETA: 0s - loss: 0.2959 - acc: 0.8772\n",
            "Epoch 4: val_acc improved from 0.84841 to 0.85282, saving model to best_model.h5\n",
            "1815/1815 [==============================] - 13s 7ms/step - loss: 0.2959 - acc: 0.8772 - val_loss: 0.3356 - val_acc: 0.8528\n",
            "Epoch 5/15\n",
            "1815/1815 [==============================] - ETA: 0s - loss: 0.2758 - acc: 0.8871\n",
            "Epoch 5: val_acc improved from 0.85282 to 0.85503, saving model to best_model.h5\n",
            "1815/1815 [==============================] - 12s 7ms/step - loss: 0.2758 - acc: 0.8871 - val_loss: 0.3357 - val_acc: 0.8550\n",
            "Epoch 6/15\n",
            "1815/1815 [==============================] - ETA: 0s - loss: 0.2567 - acc: 0.8973\n",
            "Epoch 6: val_acc did not improve from 0.85503\n",
            "1815/1815 [==============================] - 12s 7ms/step - loss: 0.2567 - acc: 0.8973 - val_loss: 0.3380 - val_acc: 0.8538\n",
            "Epoch 7/15\n",
            "1815/1815 [==============================] - ETA: 0s - loss: 0.2392 - acc: 0.9066\n",
            "Epoch 7: val_acc did not improve from 0.85503\n",
            "1815/1815 [==============================] - 12s 6ms/step - loss: 0.2392 - acc: 0.9066 - val_loss: 0.3468 - val_acc: 0.8543\n",
            "Epoch 8/15\n",
            "1815/1815 [==============================] - ETA: 0s - loss: 0.2229 - acc: 0.9147\n",
            "Epoch 8: val_acc did not improve from 0.85503\n",
            "1815/1815 [==============================] - 14s 8ms/step - loss: 0.2229 - acc: 0.9147 - val_loss: 0.3558 - val_acc: 0.8486\n",
            "Epoch 8: early stopping\n"
          ]
        }
      ],
      "source": [
        "# 필요한 라이브러리와 모듈을 임포트합니다.\n",
        "from tensorflow.keras.layers import Embedding, Dense, LSTM\n",
        "from tensorflow.keras.models import Sequential\n",
        "from tensorflow.keras.models import load_model\n",
        "from tensorflow.keras.callbacks import EarlyStopping, ModelCheckpoint\n",
        "\n",
        "# 임베딩 벡터와 LSTM 유닛의 차원을 설정합니다.\n",
        "embedding_dim = 100\n",
        "hidden_units = 128\n",
        "\n",
        "# 모델을 순차적으로 구성하기 위한 Sequential 객체를 생성합니다.\n",
        "model = Sequential()\n",
        "\n",
        "# 임베딩 레이어를 추가합니다. vocab_size 크기의 단어 집합을 embedding_dim 차원으로 임베딩합니다.\n",
        "model.add(Embedding(vocab_size, embedding_dim))\n",
        "\n",
        "# LSTM 레이어를 추가합니다. LSTM 유닛의 수는 hidden_units로 설정됩니다.\n",
        "model.add(LSTM(hidden_units))\n",
        "\n",
        "# 출력 레이어를 추가합니다. 이진 분류 문제이므로 sigmoid 활성화 함수를 사용합니다.\n",
        "model.add(Dense(1, activation='sigmoid'))\n",
        "\n",
        "# 조기 종료(EarlyStopping)를 사용하여 검증 데이터의 손실(val_loss)이 4번 연속 상승하면 훈련을 중단합니다.\n",
        "es = EarlyStopping(monitor='val_loss', mode='min', verbose=1, patience=4)\n",
        "\n",
        "# ModelCheckpoint를 사용하여 검증 데이터의 정확도(val_acc)가 이전보다 좋아질 경우에만 모델을 저장합니다.\n",
        "mc = ModelCheckpoint('best_model.h5', monitor='val_acc', mode='max', verbose=1, save_best_only=True)\n",
        "\n",
        "# 모델을 컴파일합니다. 옵티마이저로는 RMSprop를 사용하고, 손실 함수로는 binary_crossentropy를 사용합니다. 평가 메트릭으로는 정확도를 사용합니다.\n",
        "model.compile(optimizer='rmsprop', loss='binary_crossentropy', metrics=['acc'])\n",
        "\n",
        "# 모델을 훈련합니다. 에포크는 15번, 배치 크기는 64, 검증 데이터는 전체 데이터의 20%를 사용합니다.\n",
        "history = model.fit(X_train, y_train, epochs=15, callbacks=[es, mc], batch_size=64, validation_split=0.2)\n"
      ]
    },
    {
      "cell_type": "code",
      "execution_count": 42,
      "metadata": {
        "id": "PtiKYVblnJzO",
        "colab": {
          "base_uri": "https://localhost:8080/"
        },
        "outputId": "7e9a56f1-b959-419a-fd6c-5ef3c430a8ea"
      },
      "outputs": [
        {
          "output_type": "stream",
          "name": "stdout",
          "text": [
            "1527/1527 [==============================] - 6s 4ms/step - loss: 0.3459 - acc: 0.8496\n",
            "\n",
            " 테스트 정확도: 0.8496\n"
          ]
        }
      ],
      "source": [
        "# 저장된 모델을 불러옵니다.\n",
        "loaded_model = load_model('best_model.h5')\n",
        "\n",
        "# 테스트 데이터를 사용하여 모델을 평가하고 정확도를 출력합니다.\n",
        "print(\"\\n 테스트 정확도: %.4f\" % (loaded_model.evaluate(X_test, y_test)[1]))\n"
      ]
    },
    {
      "cell_type": "code",
      "execution_count": 43,
      "metadata": {
        "id": "r3oRH2vqnJ2I"
      },
      "outputs": [],
      "source": [
        "# 토크나이저 객체를 'tokenizer.pickle' 파일로 저장합니다.\n",
        "with open('tokenizer.pickle', 'wb') as handle:\n",
        "     pickle.dump(tokenizer, handle)\n",
        "\n",
        "# 'tokenizer.pickle' 파일에서 토크나이저 객체를 로드합니다.\n",
        "with open('tokenizer.pickle', 'rb') as handle:\n",
        "    tokenizer = pickle.load(handle)\n"
      ]
    },
    {
      "cell_type": "code",
      "execution_count": 44,
      "metadata": {
        "id": "gvFFl9TznJ4v"
      },
      "outputs": [],
      "source": [
        "def sentiment_predict(new_sentence):\n",
        "    # 주어진 문장에서 한글과 공백을 제외하고 모든 문자를 제거\n",
        "    new_sentence = re.sub(r'[^ㄱ-ㅎㅏ-ㅣ가-힣 ]','', new_sentence)\n",
        "\n",
        "    # 문장을 형태소로 분리/토큰화\n",
        "    new_sentence = okt.morphs(new_sentence, stem=True)\n",
        "\n",
        "    # 불용어를 제거\n",
        "    new_sentence = [word for word in new_sentence if not word in stopwords]\n",
        "\n",
        "    # 단어를 숫자 값, 인덱스로 변환\n",
        "    encoded = tokenizer.texts_to_sequences([new_sentence])\n",
        "\n",
        "    # 문장을 max_len(앞서 정의한 상수)길이로 패딩\n",
        "    pad_new = pad_sequences(encoded, maxlen = max_len)\n",
        "\n",
        "    # 패딩된 문장을 모델에 넣어 예측한다. 결과는 긍정의 확률로 나온다.\n",
        "    score = float(loaded_model.predict(pad_new))\n",
        "\n",
        "    # 긍정 확률이 0.5보다 크면 긍정, 아니면 부정으로 분류한다.\n",
        "    if(score > 0.5):\n",
        "        print(\"{:.2f}% 확률로 긍정 리뷰입니다.\\n\".format(score * 100))\n",
        "    else:\n",
        "        print(\"{:.2f}% 확률로 부정 리뷰입니다.\\n\".format((1 - score) * 100))\n"
      ]
    },
    {
      "cell_type": "code",
      "execution_count": 45,
      "metadata": {
        "id": "R6tb7zDanJ7l",
        "colab": {
          "base_uri": "https://localhost:8080/"
        },
        "outputId": "2460f25f-d55f-442d-9a70-b7006c95e455"
      },
      "outputs": [
        {
          "output_type": "stream",
          "name": "stdout",
          "text": [
            "1/1 [==============================] - 0s 370ms/step\n",
            "84.71% 확률로 긍정 리뷰입니다.\n",
            "\n"
          ]
        }
      ],
      "source": [
        "sentiment_predict('이 영화 개꿀잼 ㅋㅋㅋ')\n"
      ]
    },
    {
      "cell_type": "code",
      "execution_count": 46,
      "metadata": {
        "id": "d9-p6EcznJ-a",
        "colab": {
          "base_uri": "https://localhost:8080/"
        },
        "outputId": "41a24b93-6d49-451e-d021-0809114fd87b"
      },
      "outputs": [
        {
          "output_type": "stream",
          "name": "stdout",
          "text": [
            "1/1 [==============================] - 0s 20ms/step\n",
            "97.61% 확률로 부정 리뷰입니다.\n",
            "\n"
          ]
        }
      ],
      "source": [
        "sentiment_predict('이 영화 핵노잼 ㅠㅠ')\n"
      ]
    },
    {
      "cell_type": "code",
      "execution_count": 47,
      "metadata": {
        "id": "hA-6ZXP2lKuR",
        "colab": {
          "base_uri": "https://localhost:8080/"
        },
        "outputId": "7eb064d4-0b19-4c4d-8bdb-bbf084b93a6c"
      },
      "outputs": [
        {
          "output_type": "stream",
          "name": "stdout",
          "text": [
            "1/1 [==============================] - 0s 20ms/step\n",
            "99.81% 확률로 부정 리뷰입니다.\n",
            "\n"
          ]
        }
      ],
      "source": [
        "sentiment_predict('이딴게 영화냐 ㅉㅉ')\n"
      ]
    },
    {
      "cell_type": "code",
      "execution_count": 48,
      "metadata": {
        "id": "qgXjEug6lKwl",
        "colab": {
          "base_uri": "https://localhost:8080/"
        },
        "outputId": "9d1e1f77-955c-49bc-b4d1-6c6388636c7f"
      },
      "outputs": [
        {
          "output_type": "stream",
          "name": "stdout",
          "text": [
            "1/1 [==============================] - 0s 17ms/step\n",
            "99.27% 확률로 부정 리뷰입니다.\n",
            "\n"
          ]
        }
      ],
      "source": [
        "sentiment_predict('감독 뭐하는 놈이냐?')\n"
      ]
    },
    {
      "cell_type": "code",
      "execution_count": 49,
      "metadata": {
        "id": "5JLwnH5vlKzg",
        "colab": {
          "base_uri": "https://localhost:8080/"
        },
        "outputId": "b63fa197-25d9-4a75-8a6a-da79c40621f9"
      },
      "outputs": [
        {
          "output_type": "stream",
          "name": "stdout",
          "text": [
            "1/1 [==============================] - 0s 19ms/step\n",
            "78.49% 확률로 긍정 리뷰입니다.\n",
            "\n"
          ]
        }
      ],
      "source": [
        "sentiment_predict('와 개쩐다 정말 세계관 최강자들의 영화다')\n"
      ]
    }
  ],
  "metadata": {
    "accelerator": "GPU",
    "colab": {
      "provenance": [],
      "authorship_tag": "ABX9TyMXBQgaqPLiculon0nLSoUJ",
      "include_colab_link": true
    },
    "kernelspec": {
      "display_name": "Python 3",
      "name": "python3"
    },
    "language_info": {
      "name": "python"
    }
  },
  "nbformat": 4,
  "nbformat_minor": 0
}